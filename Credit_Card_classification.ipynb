{
 "cells": [
  {
   "cell_type": "markdown",
   "metadata": {},
   "source": [
    "# Regression to classification problem"
   ]
  },
  {
   "cell_type": "code",
   "execution_count": 1,
   "metadata": {},
   "outputs": [],
   "source": [
    "#DS Basics\n",
    "import pandas as pd\n",
    "import numpy as np\n",
    "import matplotlib as mpl\n",
    "#interactive decision tree\n",
    "import matplotlib.pyplot as plt\n",
    "#helpers\n",
    "%matplotlib inline\n",
    "\n",
    "import matplotlib.pyplot as plt\n",
    "import seaborn as sns\n",
    "#discretization\n",
    "import feature_engine.discretisers as feature_discretisers\n",
    "from sklearn.inspection import plot_partial_dependence\n",
    "\n",
    "import warnings\n",
    "warnings.simplefilter('ignore')"
   ]
  },
  {
   "cell_type": "code",
   "execution_count": 2,
   "metadata": {},
   "outputs": [],
   "source": [
    "#profiling\n",
    "import pandas_profiling\n",
    "from pandas_profiling import ProfileReport"
   ]
  },
  {
   "cell_type": "code",
   "execution_count": 3,
   "metadata": {},
   "outputs": [],
   "source": [
    "#PCA\n",
    "from sklearn import preprocessing\n",
    "from sklearn.preprocessing import StandardScaler\n",
    "from sklearn.decomposition import PCA\n",
    "import pandas as pd\n",
    "import scipy\n",
    "from sklearn.linear_model import LogisticRegression"
   ]
  },
  {
   "cell_type": "code",
   "execution_count": 4,
   "metadata": {},
   "outputs": [],
   "source": [
    "from sklearn import linear_model\n",
    "from sklearn.model_selection import KFold\n",
    "from sklearn.metrics import make_scorer\n",
    "from sklearn import svm\n",
    "from sklearn.svm import SVR\n",
    "from sklearn.model_selection import GridSearchCV\n",
    "from sklearn.tree import DecisionTreeClassifier"
   ]
  },
  {
   "cell_type": "code",
   "execution_count": 5,
   "metadata": {},
   "outputs": [],
   "source": [
    "#model metrics\n",
    "from sklearn.metrics import mean_squared_error\n",
    "from sklearn.metrics import r2_score,plot_roc_curve\n",
    "from sklearn.model_selection import cross_val_score\n",
    "from sklearn.metrics import classification_report, confusion_matrix\n",
    "mpl.rcParams['figure.figsize'] = (9,9)\n",
    "\n",
    "from math import sqrt\n",
    "from sklearn.model_selection import StratifiedKFold\n",
    "from sklearn.ensemble import ExtraTreesRegressor\n",
    "from sklearn.pipeline import Pipeline\n",
    "from sklearn.impute import SimpleImputer\n",
    "from sklearn.preprocessing import OneHotEncoder, LabelEncoder, MinMaxScaler\n",
    "from sklearn.gaussian_process.kernels import RBF"
   ]
  },
  {
   "cell_type": "code",
   "execution_count": 6,
   "metadata": {},
   "outputs": [],
   "source": [
    "from sklearn.model_selection import train_test_split, cross_val_score\n",
    "from sklearn.metrics import mean_squared_error, r2_score, accuracy_score, mean_absolute_error\n",
    "from sklearn.ensemble import RandomForestClassifier, RandomForestRegressor,GradientBoostingClassifier,GradientBoostingRegressor\n",
    "from sklearn.linear_model import LinearRegression,LassoCV\n",
    "from sklearn.svm import SVC, SVR\n",
    "from sklearn.feature_selection import SelectFromModel\n",
    "from sklearn.feature_selection import SelectKBest\n",
    "from sklearn.feature_selection import f_classif\n",
    "from numpy import set_printoptions\n",
    "from sklearn import feature_selection"
   ]
  },
  {
   "cell_type": "code",
   "execution_count": 7,
   "metadata": {},
   "outputs": [],
   "source": [
    "from sklearn.neighbors import KNeighborsClassifier"
   ]
  },
  {
   "cell_type": "markdown",
   "metadata": {},
   "source": [
    "Let us try to discretize the limit bal make this into a classifcation problem & see what is the score we are obtaining. Ofcouse this is different approach. This can only be implemented after dicussing with sales team what are the consequence of it."
   ]
  },
  {
   "cell_type": "markdown",
   "metadata": {},
   "source": [
    "# Loading data & clean Up"
   ]
  },
  {
   "cell_type": "code",
   "execution_count": 8,
   "metadata": {},
   "outputs": [],
   "source": [
    "credit = pd.read_csv(\"default of credit card clients.csv\", header=1) "
   ]
  },
  {
   "cell_type": "markdown",
   "metadata": {},
   "source": [
    "Insted of the above you can also use skip rows to skip the rows. This can be seen below"
   ]
  },
  {
   "cell_type": "code",
   "execution_count": 9,
   "metadata": {},
   "outputs": [],
   "source": [
    "# credit = pd.read_csv('default of credit card clients.csv', skiprows=1)"
   ]
  },
  {
   "cell_type": "code",
   "execution_count": 10,
   "metadata": {},
   "outputs": [],
   "source": [
    "# If you want to remane any col, just assign that col to the new col name\n",
    "# & delete the unwanted col\n",
    "credit['default'] = credit['default payment next month']"
   ]
  },
  {
   "cell_type": "code",
   "execution_count": 11,
   "metadata": {
    "scrolled": true
   },
   "outputs": [
    {
     "data": {
      "text/html": [
       "<div>\n",
       "<style scoped>\n",
       "    .dataframe tbody tr th:only-of-type {\n",
       "        vertical-align: middle;\n",
       "    }\n",
       "\n",
       "    .dataframe tbody tr th {\n",
       "        vertical-align: top;\n",
       "    }\n",
       "\n",
       "    .dataframe thead th {\n",
       "        text-align: right;\n",
       "    }\n",
       "</style>\n",
       "<table border=\"1\" class=\"dataframe\">\n",
       "  <thead>\n",
       "    <tr style=\"text-align: right;\">\n",
       "      <th></th>\n",
       "      <th>ID</th>\n",
       "      <th>LIMIT_BAL</th>\n",
       "      <th>SEX</th>\n",
       "      <th>EDUCATION</th>\n",
       "      <th>MARRIAGE</th>\n",
       "      <th>AGE</th>\n",
       "      <th>PAY_0</th>\n",
       "      <th>PAY_2</th>\n",
       "      <th>PAY_3</th>\n",
       "      <th>PAY_4</th>\n",
       "      <th>...</th>\n",
       "      <th>BILL_AMT5</th>\n",
       "      <th>BILL_AMT6</th>\n",
       "      <th>PAY_AMT1</th>\n",
       "      <th>PAY_AMT2</th>\n",
       "      <th>PAY_AMT3</th>\n",
       "      <th>PAY_AMT4</th>\n",
       "      <th>PAY_AMT5</th>\n",
       "      <th>PAY_AMT6</th>\n",
       "      <th>default payment next month</th>\n",
       "      <th>default</th>\n",
       "    </tr>\n",
       "  </thead>\n",
       "  <tbody>\n",
       "    <tr>\n",
       "      <th>0</th>\n",
       "      <td>1</td>\n",
       "      <td>20000</td>\n",
       "      <td>female</td>\n",
       "      <td>university</td>\n",
       "      <td>1</td>\n",
       "      <td>24</td>\n",
       "      <td>2</td>\n",
       "      <td>2</td>\n",
       "      <td>-1</td>\n",
       "      <td>-1</td>\n",
       "      <td>...</td>\n",
       "      <td>0</td>\n",
       "      <td>0</td>\n",
       "      <td>0</td>\n",
       "      <td>689</td>\n",
       "      <td>0</td>\n",
       "      <td>0</td>\n",
       "      <td>0</td>\n",
       "      <td>0</td>\n",
       "      <td>default</td>\n",
       "      <td>default</td>\n",
       "    </tr>\n",
       "    <tr>\n",
       "      <th>1</th>\n",
       "      <td>2</td>\n",
       "      <td>120000</td>\n",
       "      <td>female</td>\n",
       "      <td>university</td>\n",
       "      <td>2</td>\n",
       "      <td>26</td>\n",
       "      <td>-1</td>\n",
       "      <td>2</td>\n",
       "      <td>0</td>\n",
       "      <td>0</td>\n",
       "      <td>...</td>\n",
       "      <td>3455</td>\n",
       "      <td>3261</td>\n",
       "      <td>0</td>\n",
       "      <td>1000</td>\n",
       "      <td>1000</td>\n",
       "      <td>1000</td>\n",
       "      <td>0</td>\n",
       "      <td>2000</td>\n",
       "      <td>default</td>\n",
       "      <td>default</td>\n",
       "    </tr>\n",
       "    <tr>\n",
       "      <th>2</th>\n",
       "      <td>3</td>\n",
       "      <td>90000</td>\n",
       "      <td>female</td>\n",
       "      <td>university</td>\n",
       "      <td>2</td>\n",
       "      <td>34</td>\n",
       "      <td>0</td>\n",
       "      <td>0</td>\n",
       "      <td>0</td>\n",
       "      <td>0</td>\n",
       "      <td>...</td>\n",
       "      <td>14948</td>\n",
       "      <td>15549</td>\n",
       "      <td>1518</td>\n",
       "      <td>1500</td>\n",
       "      <td>1000</td>\n",
       "      <td>1000</td>\n",
       "      <td>1000</td>\n",
       "      <td>5000</td>\n",
       "      <td>not default</td>\n",
       "      <td>not default</td>\n",
       "    </tr>\n",
       "    <tr>\n",
       "      <th>3</th>\n",
       "      <td>4</td>\n",
       "      <td>50000</td>\n",
       "      <td>female</td>\n",
       "      <td>university</td>\n",
       "      <td>1</td>\n",
       "      <td>37</td>\n",
       "      <td>0</td>\n",
       "      <td>0</td>\n",
       "      <td>0</td>\n",
       "      <td>0</td>\n",
       "      <td>...</td>\n",
       "      <td>28959</td>\n",
       "      <td>29547</td>\n",
       "      <td>2000</td>\n",
       "      <td>2019</td>\n",
       "      <td>1200</td>\n",
       "      <td>1100</td>\n",
       "      <td>1069</td>\n",
       "      <td>1000</td>\n",
       "      <td>not default</td>\n",
       "      <td>not default</td>\n",
       "    </tr>\n",
       "    <tr>\n",
       "      <th>4</th>\n",
       "      <td>5</td>\n",
       "      <td>50000</td>\n",
       "      <td>male</td>\n",
       "      <td>university</td>\n",
       "      <td>1</td>\n",
       "      <td>57</td>\n",
       "      <td>-1</td>\n",
       "      <td>0</td>\n",
       "      <td>-1</td>\n",
       "      <td>0</td>\n",
       "      <td>...</td>\n",
       "      <td>19146</td>\n",
       "      <td>19131</td>\n",
       "      <td>2000</td>\n",
       "      <td>36681</td>\n",
       "      <td>10000</td>\n",
       "      <td>9000</td>\n",
       "      <td>689</td>\n",
       "      <td>679</td>\n",
       "      <td>not default</td>\n",
       "      <td>not default</td>\n",
       "    </tr>\n",
       "  </tbody>\n",
       "</table>\n",
       "<p>5 rows × 26 columns</p>\n",
       "</div>"
      ],
      "text/plain": [
       "   ID  LIMIT_BAL     SEX   EDUCATION  MARRIAGE  AGE  PAY_0  PAY_2  PAY_3  \\\n",
       "0   1      20000  female  university         1   24      2      2     -1   \n",
       "1   2     120000  female  university         2   26     -1      2      0   \n",
       "2   3      90000  female  university         2   34      0      0      0   \n",
       "3   4      50000  female  university         1   37      0      0      0   \n",
       "4   5      50000    male  university         1   57     -1      0     -1   \n",
       "\n",
       "   PAY_4  ...  BILL_AMT5  BILL_AMT6  PAY_AMT1  PAY_AMT2  PAY_AMT3  PAY_AMT4  \\\n",
       "0     -1  ...          0          0         0       689         0         0   \n",
       "1      0  ...       3455       3261         0      1000      1000      1000   \n",
       "2      0  ...      14948      15549      1518      1500      1000      1000   \n",
       "3      0  ...      28959      29547      2000      2019      1200      1100   \n",
       "4      0  ...      19146      19131      2000     36681     10000      9000   \n",
       "\n",
       "   PAY_AMT5  PAY_AMT6  default payment next month      default  \n",
       "0         0         0                     default      default  \n",
       "1         0      2000                     default      default  \n",
       "2      1000      5000                 not default  not default  \n",
       "3      1069      1000                 not default  not default  \n",
       "4       689       679                 not default  not default  \n",
       "\n",
       "[5 rows x 26 columns]"
      ]
     },
     "execution_count": 11,
     "metadata": {},
     "output_type": "execute_result"
    }
   ],
   "source": [
    "credit.head()"
   ]
  },
  {
   "cell_type": "code",
   "execution_count": 12,
   "metadata": {
    "scrolled": false
   },
   "outputs": [
    {
     "data": {
      "text/plain": [
       "Index(['ID', 'LIMIT_BAL', 'SEX', 'EDUCATION', 'MARRIAGE', 'AGE', 'PAY_0',\n",
       "       'PAY_2', 'PAY_3', 'PAY_4', 'PAY_5', 'PAY_6', 'BILL_AMT1', 'BILL_AMT2',\n",
       "       'BILL_AMT3', 'BILL_AMT4', 'BILL_AMT5', 'BILL_AMT6', 'PAY_AMT1',\n",
       "       'PAY_AMT2', 'PAY_AMT3', 'PAY_AMT4', 'PAY_AMT5', 'PAY_AMT6',\n",
       "       'default payment next month', 'default'],\n",
       "      dtype='object')"
      ]
     },
     "execution_count": 12,
     "metadata": {},
     "output_type": "execute_result"
    }
   ],
   "source": [
    "credit.columns"
   ]
  },
  {
   "cell_type": "code",
   "execution_count": 13,
   "metadata": {
    "scrolled": true
   },
   "outputs": [
    {
     "name": "stdout",
     "output_type": "stream",
     "text": [
      "<class 'pandas.core.frame.DataFrame'>\n",
      "RangeIndex: 30000 entries, 0 to 29999\n",
      "Data columns (total 26 columns):\n",
      " #   Column                      Non-Null Count  Dtype \n",
      "---  ------                      --------------  ----- \n",
      " 0   ID                          30000 non-null  int64 \n",
      " 1   LIMIT_BAL                   30000 non-null  int64 \n",
      " 2   SEX                         30000 non-null  object\n",
      " 3   EDUCATION                   30000 non-null  object\n",
      " 4   MARRIAGE                    30000 non-null  int64 \n",
      " 5   AGE                         30000 non-null  int64 \n",
      " 6   PAY_0                       30000 non-null  int64 \n",
      " 7   PAY_2                       30000 non-null  int64 \n",
      " 8   PAY_3                       30000 non-null  int64 \n",
      " 9   PAY_4                       30000 non-null  int64 \n",
      " 10  PAY_5                       30000 non-null  int64 \n",
      " 11  PAY_6                       30000 non-null  int64 \n",
      " 12  BILL_AMT1                   30000 non-null  int64 \n",
      " 13  BILL_AMT2                   30000 non-null  int64 \n",
      " 14  BILL_AMT3                   30000 non-null  int64 \n",
      " 15  BILL_AMT4                   30000 non-null  int64 \n",
      " 16  BILL_AMT5                   30000 non-null  int64 \n",
      " 17  BILL_AMT6                   30000 non-null  int64 \n",
      " 18  PAY_AMT1                    30000 non-null  int64 \n",
      " 19  PAY_AMT2                    30000 non-null  int64 \n",
      " 20  PAY_AMT3                    30000 non-null  int64 \n",
      " 21  PAY_AMT4                    30000 non-null  int64 \n",
      " 22  PAY_AMT5                    30000 non-null  int64 \n",
      " 23  PAY_AMT6                    30000 non-null  int64 \n",
      " 24  default payment next month  30000 non-null  object\n",
      " 25  default                     30000 non-null  object\n",
      "dtypes: int64(22), object(4)\n",
      "memory usage: 6.0+ MB\n"
     ]
    }
   ],
   "source": [
    "credit.info()"
   ]
  },
  {
   "cell_type": "code",
   "execution_count": 14,
   "metadata": {
    "scrolled": true
   },
   "outputs": [
    {
     "data": {
      "text/html": [
       "<div>\n",
       "<style scoped>\n",
       "    .dataframe tbody tr th:only-of-type {\n",
       "        vertical-align: middle;\n",
       "    }\n",
       "\n",
       "    .dataframe tbody tr th {\n",
       "        vertical-align: top;\n",
       "    }\n",
       "\n",
       "    .dataframe thead th {\n",
       "        text-align: right;\n",
       "    }\n",
       "</style>\n",
       "<table border=\"1\" class=\"dataframe\">\n",
       "  <thead>\n",
       "    <tr style=\"text-align: right;\">\n",
       "      <th></th>\n",
       "      <th>ID</th>\n",
       "      <th>LIMIT_BAL</th>\n",
       "      <th>MARRIAGE</th>\n",
       "      <th>AGE</th>\n",
       "      <th>PAY_0</th>\n",
       "      <th>PAY_2</th>\n",
       "      <th>PAY_3</th>\n",
       "      <th>PAY_4</th>\n",
       "      <th>PAY_5</th>\n",
       "      <th>PAY_6</th>\n",
       "      <th>...</th>\n",
       "      <th>BILL_AMT3</th>\n",
       "      <th>BILL_AMT4</th>\n",
       "      <th>BILL_AMT5</th>\n",
       "      <th>BILL_AMT6</th>\n",
       "      <th>PAY_AMT1</th>\n",
       "      <th>PAY_AMT2</th>\n",
       "      <th>PAY_AMT3</th>\n",
       "      <th>PAY_AMT4</th>\n",
       "      <th>PAY_AMT5</th>\n",
       "      <th>PAY_AMT6</th>\n",
       "    </tr>\n",
       "  </thead>\n",
       "  <tbody>\n",
       "    <tr>\n",
       "      <th>count</th>\n",
       "      <td>30000.000000</td>\n",
       "      <td>30000.000000</td>\n",
       "      <td>30000.000000</td>\n",
       "      <td>30000.000000</td>\n",
       "      <td>30000.000000</td>\n",
       "      <td>30000.000000</td>\n",
       "      <td>30000.000000</td>\n",
       "      <td>30000.000000</td>\n",
       "      <td>30000.000000</td>\n",
       "      <td>30000.000000</td>\n",
       "      <td>...</td>\n",
       "      <td>3.000000e+04</td>\n",
       "      <td>30000.000000</td>\n",
       "      <td>30000.000000</td>\n",
       "      <td>30000.000000</td>\n",
       "      <td>30000.000000</td>\n",
       "      <td>3.000000e+04</td>\n",
       "      <td>30000.00000</td>\n",
       "      <td>30000.000000</td>\n",
       "      <td>30000.000000</td>\n",
       "      <td>30000.000000</td>\n",
       "    </tr>\n",
       "    <tr>\n",
       "      <th>mean</th>\n",
       "      <td>15000.500000</td>\n",
       "      <td>167484.322667</td>\n",
       "      <td>1.551867</td>\n",
       "      <td>35.485500</td>\n",
       "      <td>-0.016700</td>\n",
       "      <td>-0.133767</td>\n",
       "      <td>-0.166200</td>\n",
       "      <td>-0.220667</td>\n",
       "      <td>-0.266200</td>\n",
       "      <td>-0.291100</td>\n",
       "      <td>...</td>\n",
       "      <td>4.701315e+04</td>\n",
       "      <td>43262.948967</td>\n",
       "      <td>40311.400967</td>\n",
       "      <td>38871.760400</td>\n",
       "      <td>5663.580500</td>\n",
       "      <td>5.921163e+03</td>\n",
       "      <td>5225.68150</td>\n",
       "      <td>4826.076867</td>\n",
       "      <td>4799.387633</td>\n",
       "      <td>5215.502567</td>\n",
       "    </tr>\n",
       "    <tr>\n",
       "      <th>std</th>\n",
       "      <td>8660.398374</td>\n",
       "      <td>129747.661567</td>\n",
       "      <td>0.521970</td>\n",
       "      <td>9.217904</td>\n",
       "      <td>1.123802</td>\n",
       "      <td>1.197186</td>\n",
       "      <td>1.196868</td>\n",
       "      <td>1.169139</td>\n",
       "      <td>1.133187</td>\n",
       "      <td>1.149988</td>\n",
       "      <td>...</td>\n",
       "      <td>6.934939e+04</td>\n",
       "      <td>64332.856134</td>\n",
       "      <td>60797.155770</td>\n",
       "      <td>59554.107537</td>\n",
       "      <td>16563.280354</td>\n",
       "      <td>2.304087e+04</td>\n",
       "      <td>17606.96147</td>\n",
       "      <td>15666.159744</td>\n",
       "      <td>15278.305679</td>\n",
       "      <td>17777.465775</td>\n",
       "    </tr>\n",
       "    <tr>\n",
       "      <th>min</th>\n",
       "      <td>1.000000</td>\n",
       "      <td>10000.000000</td>\n",
       "      <td>0.000000</td>\n",
       "      <td>21.000000</td>\n",
       "      <td>-2.000000</td>\n",
       "      <td>-2.000000</td>\n",
       "      <td>-2.000000</td>\n",
       "      <td>-2.000000</td>\n",
       "      <td>-2.000000</td>\n",
       "      <td>-2.000000</td>\n",
       "      <td>...</td>\n",
       "      <td>-1.572640e+05</td>\n",
       "      <td>-170000.000000</td>\n",
       "      <td>-81334.000000</td>\n",
       "      <td>-339603.000000</td>\n",
       "      <td>0.000000</td>\n",
       "      <td>0.000000e+00</td>\n",
       "      <td>0.00000</td>\n",
       "      <td>0.000000</td>\n",
       "      <td>0.000000</td>\n",
       "      <td>0.000000</td>\n",
       "    </tr>\n",
       "    <tr>\n",
       "      <th>25%</th>\n",
       "      <td>7500.750000</td>\n",
       "      <td>50000.000000</td>\n",
       "      <td>1.000000</td>\n",
       "      <td>28.000000</td>\n",
       "      <td>-1.000000</td>\n",
       "      <td>-1.000000</td>\n",
       "      <td>-1.000000</td>\n",
       "      <td>-1.000000</td>\n",
       "      <td>-1.000000</td>\n",
       "      <td>-1.000000</td>\n",
       "      <td>...</td>\n",
       "      <td>2.666250e+03</td>\n",
       "      <td>2326.750000</td>\n",
       "      <td>1763.000000</td>\n",
       "      <td>1256.000000</td>\n",
       "      <td>1000.000000</td>\n",
       "      <td>8.330000e+02</td>\n",
       "      <td>390.00000</td>\n",
       "      <td>296.000000</td>\n",
       "      <td>252.500000</td>\n",
       "      <td>117.750000</td>\n",
       "    </tr>\n",
       "    <tr>\n",
       "      <th>50%</th>\n",
       "      <td>15000.500000</td>\n",
       "      <td>140000.000000</td>\n",
       "      <td>2.000000</td>\n",
       "      <td>34.000000</td>\n",
       "      <td>0.000000</td>\n",
       "      <td>0.000000</td>\n",
       "      <td>0.000000</td>\n",
       "      <td>0.000000</td>\n",
       "      <td>0.000000</td>\n",
       "      <td>0.000000</td>\n",
       "      <td>...</td>\n",
       "      <td>2.008850e+04</td>\n",
       "      <td>19052.000000</td>\n",
       "      <td>18104.500000</td>\n",
       "      <td>17071.000000</td>\n",
       "      <td>2100.000000</td>\n",
       "      <td>2.009000e+03</td>\n",
       "      <td>1800.00000</td>\n",
       "      <td>1500.000000</td>\n",
       "      <td>1500.000000</td>\n",
       "      <td>1500.000000</td>\n",
       "    </tr>\n",
       "    <tr>\n",
       "      <th>75%</th>\n",
       "      <td>22500.250000</td>\n",
       "      <td>240000.000000</td>\n",
       "      <td>2.000000</td>\n",
       "      <td>41.000000</td>\n",
       "      <td>0.000000</td>\n",
       "      <td>0.000000</td>\n",
       "      <td>0.000000</td>\n",
       "      <td>0.000000</td>\n",
       "      <td>0.000000</td>\n",
       "      <td>0.000000</td>\n",
       "      <td>...</td>\n",
       "      <td>6.016475e+04</td>\n",
       "      <td>54506.000000</td>\n",
       "      <td>50190.500000</td>\n",
       "      <td>49198.250000</td>\n",
       "      <td>5006.000000</td>\n",
       "      <td>5.000000e+03</td>\n",
       "      <td>4505.00000</td>\n",
       "      <td>4013.250000</td>\n",
       "      <td>4031.500000</td>\n",
       "      <td>4000.000000</td>\n",
       "    </tr>\n",
       "    <tr>\n",
       "      <th>max</th>\n",
       "      <td>30000.000000</td>\n",
       "      <td>1000000.000000</td>\n",
       "      <td>3.000000</td>\n",
       "      <td>79.000000</td>\n",
       "      <td>8.000000</td>\n",
       "      <td>8.000000</td>\n",
       "      <td>8.000000</td>\n",
       "      <td>8.000000</td>\n",
       "      <td>8.000000</td>\n",
       "      <td>8.000000</td>\n",
       "      <td>...</td>\n",
       "      <td>1.664089e+06</td>\n",
       "      <td>891586.000000</td>\n",
       "      <td>927171.000000</td>\n",
       "      <td>961664.000000</td>\n",
       "      <td>873552.000000</td>\n",
       "      <td>1.684259e+06</td>\n",
       "      <td>896040.00000</td>\n",
       "      <td>621000.000000</td>\n",
       "      <td>426529.000000</td>\n",
       "      <td>528666.000000</td>\n",
       "    </tr>\n",
       "  </tbody>\n",
       "</table>\n",
       "<p>8 rows × 22 columns</p>\n",
       "</div>"
      ],
      "text/plain": [
       "                 ID       LIMIT_BAL      MARRIAGE           AGE         PAY_0  \\\n",
       "count  30000.000000    30000.000000  30000.000000  30000.000000  30000.000000   \n",
       "mean   15000.500000   167484.322667      1.551867     35.485500     -0.016700   \n",
       "std     8660.398374   129747.661567      0.521970      9.217904      1.123802   \n",
       "min        1.000000    10000.000000      0.000000     21.000000     -2.000000   \n",
       "25%     7500.750000    50000.000000      1.000000     28.000000     -1.000000   \n",
       "50%    15000.500000   140000.000000      2.000000     34.000000      0.000000   \n",
       "75%    22500.250000   240000.000000      2.000000     41.000000      0.000000   \n",
       "max    30000.000000  1000000.000000      3.000000     79.000000      8.000000   \n",
       "\n",
       "              PAY_2         PAY_3         PAY_4         PAY_5         PAY_6  \\\n",
       "count  30000.000000  30000.000000  30000.000000  30000.000000  30000.000000   \n",
       "mean      -0.133767     -0.166200     -0.220667     -0.266200     -0.291100   \n",
       "std        1.197186      1.196868      1.169139      1.133187      1.149988   \n",
       "min       -2.000000     -2.000000     -2.000000     -2.000000     -2.000000   \n",
       "25%       -1.000000     -1.000000     -1.000000     -1.000000     -1.000000   \n",
       "50%        0.000000      0.000000      0.000000      0.000000      0.000000   \n",
       "75%        0.000000      0.000000      0.000000      0.000000      0.000000   \n",
       "max        8.000000      8.000000      8.000000      8.000000      8.000000   \n",
       "\n",
       "       ...     BILL_AMT3      BILL_AMT4      BILL_AMT5      BILL_AMT6  \\\n",
       "count  ...  3.000000e+04   30000.000000   30000.000000   30000.000000   \n",
       "mean   ...  4.701315e+04   43262.948967   40311.400967   38871.760400   \n",
       "std    ...  6.934939e+04   64332.856134   60797.155770   59554.107537   \n",
       "min    ... -1.572640e+05 -170000.000000  -81334.000000 -339603.000000   \n",
       "25%    ...  2.666250e+03    2326.750000    1763.000000    1256.000000   \n",
       "50%    ...  2.008850e+04   19052.000000   18104.500000   17071.000000   \n",
       "75%    ...  6.016475e+04   54506.000000   50190.500000   49198.250000   \n",
       "max    ...  1.664089e+06  891586.000000  927171.000000  961664.000000   \n",
       "\n",
       "            PAY_AMT1      PAY_AMT2      PAY_AMT3       PAY_AMT4  \\\n",
       "count   30000.000000  3.000000e+04   30000.00000   30000.000000   \n",
       "mean     5663.580500  5.921163e+03    5225.68150    4826.076867   \n",
       "std     16563.280354  2.304087e+04   17606.96147   15666.159744   \n",
       "min         0.000000  0.000000e+00       0.00000       0.000000   \n",
       "25%      1000.000000  8.330000e+02     390.00000     296.000000   \n",
       "50%      2100.000000  2.009000e+03    1800.00000    1500.000000   \n",
       "75%      5006.000000  5.000000e+03    4505.00000    4013.250000   \n",
       "max    873552.000000  1.684259e+06  896040.00000  621000.000000   \n",
       "\n",
       "            PAY_AMT5       PAY_AMT6  \n",
       "count   30000.000000   30000.000000  \n",
       "mean     4799.387633    5215.502567  \n",
       "std     15278.305679   17777.465775  \n",
       "min         0.000000       0.000000  \n",
       "25%       252.500000     117.750000  \n",
       "50%      1500.000000    1500.000000  \n",
       "75%      4031.500000    4000.000000  \n",
       "max    426529.000000  528666.000000  \n",
       "\n",
       "[8 rows x 22 columns]"
      ]
     },
     "execution_count": 14,
     "metadata": {},
     "output_type": "execute_result"
    }
   ],
   "source": [
    "credit.describe()"
   ]
  },
  {
   "cell_type": "markdown",
   "metadata": {},
   "source": [
    "Preprocessing"
   ]
  },
  {
   "cell_type": "code",
   "execution_count": 15,
   "metadata": {
    "scrolled": true
   },
   "outputs": [
    {
     "name": "stdout",
     "output_type": "stream",
     "text": [
      "LIMIT_BAL    0\n",
      "SEX          0\n",
      "EDUCATION    0\n",
      "MARRIAGE     0\n",
      "AGE          0\n",
      "PAY_0        0\n",
      "PAY_2        0\n",
      "PAY_3        0\n",
      "PAY_4        0\n",
      "PAY_5        0\n",
      "PAY_6        0\n",
      "BILL_AMT1    0\n",
      "BILL_AMT2    0\n",
      "BILL_AMT3    0\n",
      "BILL_AMT4    0\n",
      "BILL_AMT5    0\n",
      "BILL_AMT6    0\n",
      "PAY_AMT1     0\n",
      "PAY_AMT2     0\n",
      "PAY_AMT3     0\n",
      "PAY_AMT4     0\n",
      "PAY_AMT5     0\n",
      "PAY_AMT6     0\n",
      "default      0\n",
      "dtype: int64\n"
     ]
    }
   ],
   "source": [
    "credit = credit.drop(['ID','default payment next month'], axis=1)\n",
    "#overriding data set with the same data set after removing duplicate \n",
    "credit = credit.drop_duplicates()\n",
    "print(credit.isnull().sum())"
   ]
  },
  {
   "cell_type": "code",
   "execution_count": 16,
   "metadata": {
    "scrolled": true
   },
   "outputs": [
    {
     "data": {
      "text/plain": [
       "count           29965\n",
       "unique              2\n",
       "top       not default\n",
       "freq            23335\n",
       "Name: default, dtype: object"
      ]
     },
     "execution_count": 16,
     "metadata": {},
     "output_type": "execute_result"
    }
   ],
   "source": [
    "credit['default'].describe()"
   ]
  },
  {
   "cell_type": "markdown",
   "metadata": {},
   "source": [
    "Checking if ID value is unique"
   ]
  },
  {
   "cell_type": "code",
   "execution_count": 17,
   "metadata": {
    "scrolled": true
   },
   "outputs": [
    {
     "data": {
      "text/plain": [
       "(29965, 24)"
      ]
     },
     "execution_count": 17,
     "metadata": {},
     "output_type": "execute_result"
    }
   ],
   "source": [
    "credit.shape"
   ]
  },
  {
   "cell_type": "markdown",
   "metadata": {},
   "source": [
    "Converting non-numeric to numeric"
   ]
  },
  {
   "cell_type": "markdown",
   "metadata": {},
   "source": [
    "A regression problem only use categorical features that are binary(ie two category).Here Sex, education, marriage & default are all categorical features. Sex & default have just two values in it. So it can be converted to numerical using label encoder.Since eduaction & marriage have four more than two categories, they need to using one-hot encoding   \n",
    "Inverse transform can be used to reverse the encoding.\n",
    "Note: if it is a classification problem we would not convert category to binary"
   ]
  },
  {
   "cell_type": "code",
   "execution_count": 18,
   "metadata": {
    "scrolled": false
   },
   "outputs": [
    {
     "data": {
      "text/plain": [
       "0        0\n",
       "1        0\n",
       "2        1\n",
       "3        1\n",
       "4        1\n",
       "        ..\n",
       "29995    1\n",
       "29996    1\n",
       "29997    0\n",
       "29998    0\n",
       "29999    0\n",
       "Name: default, Length: 29965, dtype: int32"
      ]
     },
     "execution_count": 18,
     "metadata": {},
     "output_type": "execute_result"
    }
   ],
   "source": [
    "# To encode the the col... lets say to convert the non-numeric\n",
    "# to numeric u can use this\n",
    "#Label encoding\n",
    "le = LabelEncoder()\n",
    "le.fit(credit['default'])\n",
    "credit['default'] = le.transform(credit['default'])\n",
    "credit['default']"
   ]
  },
  {
   "cell_type": "code",
   "execution_count": 19,
   "metadata": {},
   "outputs": [
    {
     "data": {
      "text/plain": [
       "count      29965\n",
       "unique         2\n",
       "top       female\n",
       "freq       18091\n",
       "Name: SEX, dtype: object"
      ]
     },
     "execution_count": 19,
     "metadata": {},
     "output_type": "execute_result"
    }
   ],
   "source": [
    "credit['SEX'].describe()"
   ]
  },
  {
   "cell_type": "code",
   "execution_count": 20,
   "metadata": {},
   "outputs": [],
   "source": [
    "le = LabelEncoder()\n",
    "le.fit(credit['SEX'])\n",
    "credit['SEX'] = le.transform(credit['SEX'])\n",
    "# credit['SEX_list']\n",
    "#credit['SEX_list'] = le.inverse_transform(credit['SEX'])"
   ]
  },
  {
   "cell_type": "code",
   "execution_count": 21,
   "metadata": {},
   "outputs": [],
   "source": [
    "le = LabelEncoder()\n",
    "le.fit(credit['EDUCATION'])\n",
    "credit['EDUCATION'] = le.transform(credit['EDUCATION'])"
   ]
  },
  {
   "cell_type": "code",
   "execution_count": 22,
   "metadata": {
    "scrolled": true
   },
   "outputs": [],
   "source": [
    "# convertedCol = credit.loc[:,'EDUCATION'] # selecting the required cols\n",
    "# convertedCol\n",
    "# convertedCol = pd.get_dummies(convertedCol)#converting them using dummies fn\n",
    "# convertedCol.head()\n",
    "# credit = pd.concat([credit,convertedCol],axis=1)\n",
    "# credit.head()"
   ]
  },
  {
   "cell_type": "code",
   "execution_count": 23,
   "metadata": {},
   "outputs": [],
   "source": [
    "# credit = credit.drop(['EDUCATION'],axis=1)"
   ]
  },
  {
   "cell_type": "code",
   "execution_count": 24,
   "metadata": {},
   "outputs": [],
   "source": [
    "credit['PAY_0'] = credit['PAY_0'].replace(-2,0)\n",
    "credit['PAY_2'] = credit['PAY_2'].replace(-2,0)\n",
    "credit['PAY_3'] = credit['PAY_3'].replace(-2,0)\n",
    "credit['PAY_4'] = credit['PAY_4'].replace(-2,0)\n",
    "credit['PAY_5'] = credit['PAY_5'].replace(-2,0)\n",
    "credit['PAY_6'] = credit['PAY_6'].replace(-2,0)\n",
    "\n",
    "credit['PAY_0'] = credit['PAY_0'].replace(-1,0)\n",
    "credit['PAY_2'] = credit['PAY_2'].replace(-1,0)\n",
    "credit['PAY_3'] = credit['PAY_3'].replace(-1,0)\n",
    "credit['PAY_4'] = credit['PAY_4'].replace(-1,0)\n",
    "credit['PAY_5'] = credit['PAY_5'].replace(-1,0)\n",
    "credit['PAY_6'] = credit['PAY_6'].replace(-1,0)"
   ]
  },
  {
   "cell_type": "markdown",
   "metadata": {},
   "source": [
    "If you want to discrete age, bill amount & payment use the below:\n",
    "\n",
    "disc = feature_discretisers.EqualFrequencyDiscretiser(q =9,variables=['BILL_AMT1','BILL_AMT2','BILL_AMT3','BILL_AMT4','BILL_AMT5','BILL_AMT6',\n",
    "                                                                      'PAY_AMT1','PAY_AMT2','PAY_AMT3','PAY_AMT4','PAY_AMT5','PAY_AMT6'])    \n",
    "disc.fit(credit)\n",
    "credit= disc.transform(credit)\n",
    "\n",
    "disc = feature_discretisers.EqualFrequencyDiscretiser(q =5,variables=['AGE'])    \n",
    "disc.fit(credit)\n",
    "credit= disc.transform(credit)\n",
    "\n",
    "disc.binner_dict_"
   ]
  },
  {
   "cell_type": "code",
   "execution_count": 112,
   "metadata": {},
   "outputs": [],
   "source": [
    "# # credit['LIMIT_BAL'] = pd.cut(credit['LIMIT_BAL'], bins=5)\n",
    "# # le = LabelEncoder()\n",
    "# # le.fit(credit['LIMIT_BAL'])\n",
    "# bin_labels_price=[20800,46000,604000,80200,1000000]\n",
    "# credit['LIMIT_BAL'] = pd.cut(credit['LIMIT_BAL'], bins =5 ,labels= bin_labels_price)"
   ]
  },
  {
   "cell_type": "markdown",
   "metadata": {},
   "source": [
    "Inordder to make this into a regression type problem, the limit bal need to be binned. Using the EqualFrequencyDiscretiser, limit bal can be 4 bins. Thereby making it a "
   ]
  },
  {
   "cell_type": "code",
   "execution_count": 25,
   "metadata": {
    "scrolled": false
   },
   "outputs": [
    {
     "data": {
      "text/plain": [
       "{'LIMIT_BAL': [-inf, 50000.0, 100000.0, 180000.0, 270000.0, inf]}"
      ]
     },
     "execution_count": 25,
     "metadata": {},
     "output_type": "execute_result"
    }
   ],
   "source": [
    "disc = feature_discretisers.EqualFrequencyDiscretiser(q =5,variables=['LIMIT_BAL'])    \n",
    "disc.fit(credit)\n",
    "credit= disc.transform(credit)\n",
    "disc.binner_dict_"
   ]
  },
  {
   "cell_type": "code",
   "execution_count": 26,
   "metadata": {
    "scrolled": false
   },
   "outputs": [
    {
     "data": {
      "text/plain": [
       "0    7673\n",
       "2    6114\n",
       "4    5949\n",
       "3    5412\n",
       "1    4817\n",
       "Name: LIMIT_BAL, dtype: int64"
      ]
     },
     "execution_count": 26,
     "metadata": {},
     "output_type": "execute_result"
    }
   ],
   "source": [
    "credit['LIMIT_BAL'].value_counts()"
   ]
  },
  {
   "cell_type": "markdown",
   "metadata": {},
   "source": [
    "### Feature selection\n",
    "\n",
    "certain features can make the model to perform badly. So it is important to choose which are the optimal features"
   ]
  },
  {
   "cell_type": "code",
   "execution_count": 27,
   "metadata": {
    "scrolled": true
   },
   "outputs": [
    {
     "data": {
      "image/png": "[encoded data removed]",
      "text/plain": [
       "<Figure size 864x720 with 2 Axes>"
      ]
     },
     "metadata": {},
     "output_type": "display_data"
    }
   ],
   "source": [
    "#Using Pearson Correlation\n",
    "plt.figure(figsize=(12,10))\n",
    "credit_corr = credit.corr()\n",
    "sns.heatmap(credit_corr, annot=True, cmap=plt.cm.Reds)\n",
    "plt.show()"
   ]
  },
  {
   "cell_type": "code",
   "execution_count": 29,
   "metadata": {
    "scrolled": true
   },
   "outputs": [
    {
     "data": {
      "text/plain": [
       "SEX         0.053850\n",
       "MARRIAGE    0.109183\n",
       "Name: LIMIT_BAL, dtype: float64"
      ]
     },
     "execution_count": 29,
     "metadata": {},
     "output_type": "execute_result"
    }
   ],
   "source": [
    "#Correlation with output variable\n",
    "cor_target = abs(credit_corr['LIMIT_BAL'])\n",
    "#Selecting highly correlated features\n",
    "irrelevant_features = cor_target[cor_target<0.13]\n",
    "irrelevant_features"
   ]
  },
  {
   "cell_type": "markdown",
   "metadata": {},
   "source": [
    "irrelevant_features gives you the set of features which has very less correlation with dependent feature. These features can be removed from the data set."
   ]
  },
  {
   "cell_type": "code",
   "execution_count": 30,
   "metadata": {},
   "outputs": [],
   "source": [
    "credit = credit.drop(irrelevant_features.index,axis=1)\n",
    "credit_samples = credit.sample(100)\n",
    "X= credit.iloc[:,1:]\n",
    "y= credit.iloc[:,:1]\n",
    "X_sample= credit_samples.iloc[:,1:]\n",
    "y_sample= credit_samples.iloc[:,:1]\n",
    "X_train,X_test,y_train,y_test = train_test_split(X,y,test_size=0.30,random_state=123)"
   ]
  },
  {
   "cell_type": "code",
   "execution_count": 94,
   "metadata": {},
   "outputs": [
    {
     "data": {
      "text/html": [
       "<div>\n",
       "<style scoped>\n",
       "    .dataframe tbody tr th:only-of-type {\n",
       "        vertical-align: middle;\n",
       "    }\n",
       "\n",
       "    .dataframe tbody tr th {\n",
       "        vertical-align: top;\n",
       "    }\n",
       "\n",
       "    .dataframe thead th {\n",
       "        text-align: right;\n",
       "    }\n",
       "</style>\n",
       "<table border=\"1\" class=\"dataframe\">\n",
       "  <thead>\n",
       "    <tr style=\"text-align: right;\">\n",
       "      <th></th>\n",
       "      <th>LIMIT_BAL</th>\n",
       "      <th>EDUCATION</th>\n",
       "      <th>AGE</th>\n",
       "      <th>PAY_0</th>\n",
       "      <th>PAY_2</th>\n",
       "      <th>PAY_3</th>\n",
       "      <th>PAY_4</th>\n",
       "      <th>PAY_5</th>\n",
       "      <th>PAY_6</th>\n",
       "      <th>PAY_AMT1</th>\n",
       "      <th>PAY_AMT2</th>\n",
       "      <th>PAY_AMT3</th>\n",
       "      <th>PAY_AMT4</th>\n",
       "      <th>PAY_AMT5</th>\n",
       "      <th>PAY_AMT6</th>\n",
       "      <th>default</th>\n",
       "    </tr>\n",
       "  </thead>\n",
       "  <tbody>\n",
       "    <tr>\n",
       "      <th>0</th>\n",
       "      <td>0</td>\n",
       "      <td>3</td>\n",
       "      <td>0</td>\n",
       "      <td>2</td>\n",
       "      <td>2</td>\n",
       "      <td>0</td>\n",
       "      <td>0</td>\n",
       "      <td>0</td>\n",
       "      <td>0</td>\n",
       "      <td>0</td>\n",
       "      <td>1</td>\n",
       "      <td>0</td>\n",
       "      <td>0</td>\n",
       "      <td>0</td>\n",
       "      <td>0</td>\n",
       "      <td>0</td>\n",
       "    </tr>\n",
       "    <tr>\n",
       "      <th>1</th>\n",
       "      <td>2</td>\n",
       "      <td>3</td>\n",
       "      <td>0</td>\n",
       "      <td>0</td>\n",
       "      <td>2</td>\n",
       "      <td>0</td>\n",
       "      <td>0</td>\n",
       "      <td>0</td>\n",
       "      <td>2</td>\n",
       "      <td>0</td>\n",
       "      <td>1</td>\n",
       "      <td>1</td>\n",
       "      <td>2</td>\n",
       "      <td>0</td>\n",
       "      <td>2</td>\n",
       "      <td>0</td>\n",
       "    </tr>\n",
       "    <tr>\n",
       "      <th>2</th>\n",
       "      <td>1</td>\n",
       "      <td>3</td>\n",
       "      <td>2</td>\n",
       "      <td>0</td>\n",
       "      <td>0</td>\n",
       "      <td>0</td>\n",
       "      <td>0</td>\n",
       "      <td>0</td>\n",
       "      <td>0</td>\n",
       "      <td>2</td>\n",
       "      <td>2</td>\n",
       "      <td>1</td>\n",
       "      <td>2</td>\n",
       "      <td>1</td>\n",
       "      <td>5</td>\n",
       "      <td>1</td>\n",
       "    </tr>\n",
       "    <tr>\n",
       "      <th>3</th>\n",
       "      <td>0</td>\n",
       "      <td>3</td>\n",
       "      <td>2</td>\n",
       "      <td>0</td>\n",
       "      <td>0</td>\n",
       "      <td>0</td>\n",
       "      <td>0</td>\n",
       "      <td>0</td>\n",
       "      <td>0</td>\n",
       "      <td>2</td>\n",
       "      <td>3</td>\n",
       "      <td>2</td>\n",
       "      <td>2</td>\n",
       "      <td>1</td>\n",
       "      <td>1</td>\n",
       "      <td>1</td>\n",
       "    </tr>\n",
       "    <tr>\n",
       "      <th>4</th>\n",
       "      <td>0</td>\n",
       "      <td>3</td>\n",
       "      <td>4</td>\n",
       "      <td>0</td>\n",
       "      <td>0</td>\n",
       "      <td>0</td>\n",
       "      <td>0</td>\n",
       "      <td>0</td>\n",
       "      <td>0</td>\n",
       "      <td>2</td>\n",
       "      <td>7</td>\n",
       "      <td>7</td>\n",
       "      <td>7</td>\n",
       "      <td>0</td>\n",
       "      <td>1</td>\n",
       "      <td>1</td>\n",
       "    </tr>\n",
       "  </tbody>\n",
       "</table>\n",
       "</div>"
      ],
      "text/plain": [
       "   LIMIT_BAL  EDUCATION  AGE  PAY_0  PAY_2  PAY_3  PAY_4  PAY_5  PAY_6  \\\n",
       "0          0          3    0      2      2      0      0      0      0   \n",
       "1          2          3    0      0      2      0      0      0      2   \n",
       "2          1          3    2      0      0      0      0      0      0   \n",
       "3          0          3    2      0      0      0      0      0      0   \n",
       "4          0          3    4      0      0      0      0      0      0   \n",
       "\n",
       "   PAY_AMT1  PAY_AMT2  PAY_AMT3  PAY_AMT4  PAY_AMT5  PAY_AMT6  default  \n",
       "0         0         1         0         0         0         0        0  \n",
       "1         0         1         1         2         0         2        0  \n",
       "2         2         2         1         2         1         5        1  \n",
       "3         2         3         2         2         1         1        1  \n",
       "4         2         7         7         7         0         1        1  "
      ]
     },
     "execution_count": 94,
     "metadata": {},
     "output_type": "execute_result"
    }
   ],
   "source": [
    "credit.head()"
   ]
  },
  {
   "cell_type": "code",
   "execution_count": 135,
   "metadata": {},
   "outputs": [
    {
     "data": {
      "text/html": [
       "<div>\n",
       "<style scoped>\n",
       "    .dataframe tbody tr th:only-of-type {\n",
       "        vertical-align: middle;\n",
       "    }\n",
       "\n",
       "    .dataframe tbody tr th {\n",
       "        vertical-align: top;\n",
       "    }\n",
       "\n",
       "    .dataframe thead th {\n",
       "        text-align: right;\n",
       "    }\n",
       "</style>\n",
       "<table border=\"1\" class=\"dataframe\">\n",
       "  <thead>\n",
       "    <tr style=\"text-align: right;\">\n",
       "      <th></th>\n",
       "      <th>LIMIT_BAL</th>\n",
       "      <th>EDUCATION</th>\n",
       "      <th>AGE</th>\n",
       "      <th>PAY_0</th>\n",
       "      <th>PAY_2</th>\n",
       "      <th>PAY_3</th>\n",
       "      <th>PAY_4</th>\n",
       "      <th>PAY_5</th>\n",
       "      <th>PAY_6</th>\n",
       "      <th>BILL_AMT1</th>\n",
       "      <th>...</th>\n",
       "      <th>BILL_AMT4</th>\n",
       "      <th>BILL_AMT5</th>\n",
       "      <th>BILL_AMT6</th>\n",
       "      <th>PAY_AMT1</th>\n",
       "      <th>PAY_AMT2</th>\n",
       "      <th>PAY_AMT3</th>\n",
       "      <th>PAY_AMT4</th>\n",
       "      <th>PAY_AMT5</th>\n",
       "      <th>PAY_AMT6</th>\n",
       "      <th>default</th>\n",
       "    </tr>\n",
       "  </thead>\n",
       "  <tbody>\n",
       "    <tr>\n",
       "      <th>0</th>\n",
       "      <td>0</td>\n",
       "      <td>3</td>\n",
       "      <td>-1.246078</td>\n",
       "      <td>2</td>\n",
       "      <td>2</td>\n",
       "      <td>0</td>\n",
       "      <td>0</td>\n",
       "      <td>0</td>\n",
       "      <td>0</td>\n",
       "      <td>-0.643117</td>\n",
       "      <td>...</td>\n",
       "      <td>-0.673064</td>\n",
       "      <td>-0.663612</td>\n",
       "      <td>-0.653264</td>\n",
       "      <td>-0.342158</td>\n",
       "      <td>-0.227257</td>\n",
       "      <td>-0.296984</td>\n",
       "      <td>-0.308253</td>\n",
       "      <td>-0.314331</td>\n",
       "      <td>-0.293562</td>\n",
       "      <td>0</td>\n",
       "    </tr>\n",
       "    <tr>\n",
       "      <th>1</th>\n",
       "      <td>2</td>\n",
       "      <td>3</td>\n",
       "      <td>-1.029141</td>\n",
       "      <td>0</td>\n",
       "      <td>2</td>\n",
       "      <td>0</td>\n",
       "      <td>0</td>\n",
       "      <td>0</td>\n",
       "      <td>2</td>\n",
       "      <td>-0.659830</td>\n",
       "      <td>...</td>\n",
       "      <td>-0.622219</td>\n",
       "      <td>-0.606802</td>\n",
       "      <td>-0.598525</td>\n",
       "      <td>-0.342158</td>\n",
       "      <td>-0.213767</td>\n",
       "      <td>-0.240218</td>\n",
       "      <td>-0.244454</td>\n",
       "      <td>-0.314331</td>\n",
       "      <td>-0.181119</td>\n",
       "      <td>0</td>\n",
       "    </tr>\n",
       "    <tr>\n",
       "      <th>2</th>\n",
       "      <td>1</td>\n",
       "      <td>3</td>\n",
       "      <td>-0.161397</td>\n",
       "      <td>0</td>\n",
       "      <td>0</td>\n",
       "      <td>0</td>\n",
       "      <td>0</td>\n",
       "      <td>0</td>\n",
       "      <td>0</td>\n",
       "      <td>-0.299280</td>\n",
       "      <td>...</td>\n",
       "      <td>-0.450369</td>\n",
       "      <td>-0.417822</td>\n",
       "      <td>-0.392257</td>\n",
       "      <td>-0.250556</td>\n",
       "      <td>-0.192078</td>\n",
       "      <td>-0.240218</td>\n",
       "      <td>-0.244454</td>\n",
       "      <td>-0.248912</td>\n",
       "      <td>-0.012453</td>\n",
       "      <td>1</td>\n",
       "    </tr>\n",
       "    <tr>\n",
       "      <th>3</th>\n",
       "      <td>0</td>\n",
       "      <td>3</td>\n",
       "      <td>0.164007</td>\n",
       "      <td>0</td>\n",
       "      <td>0</td>\n",
       "      <td>0</td>\n",
       "      <td>0</td>\n",
       "      <td>0</td>\n",
       "      <td>0</td>\n",
       "      <td>-0.058284</td>\n",
       "      <td>...</td>\n",
       "      <td>-0.233081</td>\n",
       "      <td>-0.187439</td>\n",
       "      <td>-0.157286</td>\n",
       "      <td>-0.221470</td>\n",
       "      <td>-0.169565</td>\n",
       "      <td>-0.228864</td>\n",
       "      <td>-0.238074</td>\n",
       "      <td>-0.244398</td>\n",
       "      <td>-0.237340</td>\n",
       "      <td>1</td>\n",
       "    </tr>\n",
       "    <tr>\n",
       "      <th>4</th>\n",
       "      <td>0</td>\n",
       "      <td>3</td>\n",
       "      <td>2.333368</td>\n",
       "      <td>0</td>\n",
       "      <td>0</td>\n",
       "      <td>0</td>\n",
       "      <td>0</td>\n",
       "      <td>0</td>\n",
       "      <td>0</td>\n",
       "      <td>-0.579253</td>\n",
       "      <td>...</td>\n",
       "      <td>-0.347669</td>\n",
       "      <td>-0.348795</td>\n",
       "      <td>-0.332130</td>\n",
       "      <td>-0.221470</td>\n",
       "      <td>1.334009</td>\n",
       "      <td>0.270680</td>\n",
       "      <td>0.265939</td>\n",
       "      <td>-0.269257</td>\n",
       "      <td>-0.255388</td>\n",
       "      <td>1</td>\n",
       "    </tr>\n",
       "  </tbody>\n",
       "</table>\n",
       "<p>5 rows × 22 columns</p>\n",
       "</div>"
      ],
      "text/plain": [
       "   LIMIT_BAL  EDUCATION       AGE  PAY_0  PAY_2  PAY_3  PAY_4  PAY_5  PAY_6  \\\n",
       "0          0          3 -1.246078      2      2      0      0      0      0   \n",
       "1          2          3 -1.029141      0      2      0      0      0      2   \n",
       "2          1          3 -0.161397      0      0      0      0      0      0   \n",
       "3          0          3  0.164007      0      0      0      0      0      0   \n",
       "4          0          3  2.333368      0      0      0      0      0      0   \n",
       "\n",
       "   BILL_AMT1  ...  BILL_AMT4  BILL_AMT5  BILL_AMT6  PAY_AMT1  PAY_AMT2  \\\n",
       "0  -0.643117  ...  -0.673064  -0.663612  -0.653264 -0.342158 -0.227257   \n",
       "1  -0.659830  ...  -0.622219  -0.606802  -0.598525 -0.342158 -0.213767   \n",
       "2  -0.299280  ...  -0.450369  -0.417822  -0.392257 -0.250556 -0.192078   \n",
       "3  -0.058284  ...  -0.233081  -0.187439  -0.157286 -0.221470 -0.169565   \n",
       "4  -0.579253  ...  -0.347669  -0.348795  -0.332130 -0.221470  1.334009   \n",
       "\n",
       "   PAY_AMT3  PAY_AMT4  PAY_AMT5  PAY_AMT6  default  \n",
       "0 -0.296984 -0.308253 -0.314331 -0.293562        0  \n",
       "1 -0.240218 -0.244454 -0.314331 -0.181119        0  \n",
       "2 -0.240218 -0.244454 -0.248912 -0.012453        1  \n",
       "3 -0.228864 -0.238074 -0.244398 -0.237340        1  \n",
       "4  0.270680  0.265939 -0.269257 -0.255388        1  \n",
       "\n",
       "[5 rows x 22 columns]"
      ]
     },
     "execution_count": 135,
     "metadata": {},
     "output_type": "execute_result"
    }
   ],
   "source": [
    "credit.head()"
   ]
  },
  {
   "cell_type": "code",
   "execution_count": 31,
   "metadata": {},
   "outputs": [],
   "source": [
    "credit_samples = credit.sample(100)\n",
    "X= credit.iloc[:,1:]\n",
    "y= credit.iloc[:,:1]\n",
    "X_sample= credit_samples.iloc[:,1:]\n",
    "y_sample= credit_samples.iloc[:,:1]\n",
    "\n",
    "X_train,X_test,y_train,y_test = train_test_split(X,y,test_size=0.30,random_state=123)\n",
    "X_Strain,X_Stest,y_Strain,y_Stest = train_test_split(X_sample,y_sample,test_size=0.30,random_state=123)"
   ]
  },
  {
   "cell_type": "code",
   "execution_count": 137,
   "metadata": {},
   "outputs": [
    {
     "data": {
      "text/html": [
       "<div>\n",
       "<style scoped>\n",
       "    .dataframe tbody tr th:only-of-type {\n",
       "        vertical-align: middle;\n",
       "    }\n",
       "\n",
       "    .dataframe tbody tr th {\n",
       "        vertical-align: top;\n",
       "    }\n",
       "\n",
       "    .dataframe thead th {\n",
       "        text-align: right;\n",
       "    }\n",
       "</style>\n",
       "<table border=\"1\" class=\"dataframe\">\n",
       "  <thead>\n",
       "    <tr style=\"text-align: right;\">\n",
       "      <th></th>\n",
       "      <th>EDUCATION</th>\n",
       "      <th>AGE</th>\n",
       "      <th>PAY_0</th>\n",
       "      <th>PAY_2</th>\n",
       "      <th>PAY_3</th>\n",
       "      <th>PAY_4</th>\n",
       "      <th>PAY_5</th>\n",
       "      <th>PAY_6</th>\n",
       "      <th>BILL_AMT1</th>\n",
       "      <th>BILL_AMT2</th>\n",
       "      <th>...</th>\n",
       "      <th>BILL_AMT4</th>\n",
       "      <th>BILL_AMT5</th>\n",
       "      <th>BILL_AMT6</th>\n",
       "      <th>PAY_AMT1</th>\n",
       "      <th>PAY_AMT2</th>\n",
       "      <th>PAY_AMT3</th>\n",
       "      <th>PAY_AMT4</th>\n",
       "      <th>PAY_AMT5</th>\n",
       "      <th>PAY_AMT6</th>\n",
       "      <th>default</th>\n",
       "    </tr>\n",
       "  </thead>\n",
       "  <tbody>\n",
       "    <tr>\n",
       "      <th>0</th>\n",
       "      <td>3</td>\n",
       "      <td>-1.246078</td>\n",
       "      <td>2</td>\n",
       "      <td>2</td>\n",
       "      <td>0</td>\n",
       "      <td>0</td>\n",
       "      <td>0</td>\n",
       "      <td>0</td>\n",
       "      <td>-0.643117</td>\n",
       "      <td>-0.648006</td>\n",
       "      <td>...</td>\n",
       "      <td>-0.673064</td>\n",
       "      <td>-0.663612</td>\n",
       "      <td>-0.653264</td>\n",
       "      <td>-0.342158</td>\n",
       "      <td>-0.227257</td>\n",
       "      <td>-0.296984</td>\n",
       "      <td>-0.308253</td>\n",
       "      <td>-0.314331</td>\n",
       "      <td>-0.293562</td>\n",
       "      <td>0</td>\n",
       "    </tr>\n",
       "    <tr>\n",
       "      <th>1</th>\n",
       "      <td>3</td>\n",
       "      <td>-1.029141</td>\n",
       "      <td>0</td>\n",
       "      <td>2</td>\n",
       "      <td>0</td>\n",
       "      <td>0</td>\n",
       "      <td>0</td>\n",
       "      <td>2</td>\n",
       "      <td>-0.659830</td>\n",
       "      <td>-0.667347</td>\n",
       "      <td>...</td>\n",
       "      <td>-0.622219</td>\n",
       "      <td>-0.606802</td>\n",
       "      <td>-0.598525</td>\n",
       "      <td>-0.342158</td>\n",
       "      <td>-0.213767</td>\n",
       "      <td>-0.240218</td>\n",
       "      <td>-0.244454</td>\n",
       "      <td>-0.314331</td>\n",
       "      <td>-0.181119</td>\n",
       "      <td>0</td>\n",
       "    </tr>\n",
       "    <tr>\n",
       "      <th>2</th>\n",
       "      <td>3</td>\n",
       "      <td>-0.161397</td>\n",
       "      <td>0</td>\n",
       "      <td>0</td>\n",
       "      <td>0</td>\n",
       "      <td>0</td>\n",
       "      <td>0</td>\n",
       "      <td>0</td>\n",
       "      <td>-0.299280</td>\n",
       "      <td>-0.494553</td>\n",
       "      <td>...</td>\n",
       "      <td>-0.450369</td>\n",
       "      <td>-0.417822</td>\n",
       "      <td>-0.392257</td>\n",
       "      <td>-0.250556</td>\n",
       "      <td>-0.192078</td>\n",
       "      <td>-0.240218</td>\n",
       "      <td>-0.244454</td>\n",
       "      <td>-0.248912</td>\n",
       "      <td>-0.012453</td>\n",
       "      <td>1</td>\n",
       "    </tr>\n",
       "    <tr>\n",
       "      <th>3</th>\n",
       "      <td>3</td>\n",
       "      <td>0.164007</td>\n",
       "      <td>0</td>\n",
       "      <td>0</td>\n",
       "      <td>0</td>\n",
       "      <td>0</td>\n",
       "      <td>0</td>\n",
       "      <td>0</td>\n",
       "      <td>-0.058284</td>\n",
       "      <td>-0.014093</td>\n",
       "      <td>...</td>\n",
       "      <td>-0.233081</td>\n",
       "      <td>-0.187439</td>\n",
       "      <td>-0.157286</td>\n",
       "      <td>-0.221470</td>\n",
       "      <td>-0.169565</td>\n",
       "      <td>-0.228864</td>\n",
       "      <td>-0.238074</td>\n",
       "      <td>-0.244398</td>\n",
       "      <td>-0.237340</td>\n",
       "      <td>1</td>\n",
       "    </tr>\n",
       "    <tr>\n",
       "      <th>4</th>\n",
       "      <td>3</td>\n",
       "      <td>2.333368</td>\n",
       "      <td>0</td>\n",
       "      <td>0</td>\n",
       "      <td>0</td>\n",
       "      <td>0</td>\n",
       "      <td>0</td>\n",
       "      <td>0</td>\n",
       "      <td>-0.579253</td>\n",
       "      <td>-0.611935</td>\n",
       "      <td>...</td>\n",
       "      <td>-0.347669</td>\n",
       "      <td>-0.348795</td>\n",
       "      <td>-0.332130</td>\n",
       "      <td>-0.221470</td>\n",
       "      <td>1.334009</td>\n",
       "      <td>0.270680</td>\n",
       "      <td>0.265939</td>\n",
       "      <td>-0.269257</td>\n",
       "      <td>-0.255388</td>\n",
       "      <td>1</td>\n",
       "    </tr>\n",
       "    <tr>\n",
       "      <th>...</th>\n",
       "      <td>...</td>\n",
       "      <td>...</td>\n",
       "      <td>...</td>\n",
       "      <td>...</td>\n",
       "      <td>...</td>\n",
       "      <td>...</td>\n",
       "      <td>...</td>\n",
       "      <td>...</td>\n",
       "      <td>...</td>\n",
       "      <td>...</td>\n",
       "      <td>...</td>\n",
       "      <td>...</td>\n",
       "      <td>...</td>\n",
       "      <td>...</td>\n",
       "      <td>...</td>\n",
       "      <td>...</td>\n",
       "      <td>...</td>\n",
       "      <td>...</td>\n",
       "      <td>...</td>\n",
       "      <td>...</td>\n",
       "      <td>...</td>\n",
       "    </tr>\n",
       "    <tr>\n",
       "      <th>29995</th>\n",
       "      <td>1</td>\n",
       "      <td>0.380943</td>\n",
       "      <td>0</td>\n",
       "      <td>0</td>\n",
       "      <td>0</td>\n",
       "      <td>0</td>\n",
       "      <td>0</td>\n",
       "      <td>0</td>\n",
       "      <td>1.869003</td>\n",
       "      <td>2.016713</td>\n",
       "      <td>...</td>\n",
       "      <td>0.694467</td>\n",
       "      <td>-0.149982</td>\n",
       "      <td>-0.385023</td>\n",
       "      <td>0.170768</td>\n",
       "      <td>0.610418</td>\n",
       "      <td>-0.012982</td>\n",
       "      <td>-0.113857</td>\n",
       "      <td>0.012763</td>\n",
       "      <td>-0.237340</td>\n",
       "      <td>1</td>\n",
       "    </tr>\n",
       "    <tr>\n",
       "      <th>29996</th>\n",
       "      <td>1</td>\n",
       "      <td>0.814815</td>\n",
       "      <td>0</td>\n",
       "      <td>0</td>\n",
       "      <td>0</td>\n",
       "      <td>0</td>\n",
       "      <td>0</td>\n",
       "      <td>0</td>\n",
       "      <td>-0.673393</td>\n",
       "      <td>-0.665900</td>\n",
       "      <td>...</td>\n",
       "      <td>-0.533536</td>\n",
       "      <td>-0.578273</td>\n",
       "      <td>-0.653264</td>\n",
       "      <td>-0.231306</td>\n",
       "      <td>-0.104194</td>\n",
       "      <td>0.213800</td>\n",
       "      <td>-0.300023</td>\n",
       "      <td>-0.314331</td>\n",
       "      <td>-0.293562</td>\n",
       "      <td>1</td>\n",
       "    </tr>\n",
       "    <tr>\n",
       "      <th>29997</th>\n",
       "      <td>3</td>\n",
       "      <td>0.164007</td>\n",
       "      <td>4</td>\n",
       "      <td>3</td>\n",
       "      <td>2</td>\n",
       "      <td>0</td>\n",
       "      <td>0</td>\n",
       "      <td>0</td>\n",
       "      <td>-0.647842</td>\n",
       "      <td>-0.644438</td>\n",
       "      <td>...</td>\n",
       "      <td>-0.348632</td>\n",
       "      <td>-0.325182</td>\n",
       "      <td>-0.328336</td>\n",
       "      <td>-0.342158</td>\n",
       "      <td>-0.257145</td>\n",
       "      <td>0.951876</td>\n",
       "      <td>-0.040297</td>\n",
       "      <td>-0.183493</td>\n",
       "      <td>-0.119275</td>\n",
       "      <td>0</td>\n",
       "    </tr>\n",
       "    <tr>\n",
       "      <th>29998</th>\n",
       "      <td>1</td>\n",
       "      <td>0.597879</td>\n",
       "      <td>1</td>\n",
       "      <td>0</td>\n",
       "      <td>0</td>\n",
       "      <td>0</td>\n",
       "      <td>0</td>\n",
       "      <td>0</td>\n",
       "      <td>-0.718575</td>\n",
       "      <td>0.409339</td>\n",
       "      <td>...</td>\n",
       "      <td>0.147013</td>\n",
       "      <td>-0.468681</td>\n",
       "      <td>0.168314</td>\n",
       "      <td>4.841417</td>\n",
       "      <td>-0.109269</td>\n",
       "      <td>-0.230113</td>\n",
       "      <td>-0.185376</td>\n",
       "      <td>3.150512</td>\n",
       "      <td>-0.192138</td>\n",
       "      <td>0</td>\n",
       "    </tr>\n",
       "    <tr>\n",
       "      <th>29999</th>\n",
       "      <td>3</td>\n",
       "      <td>1.140219</td>\n",
       "      <td>0</td>\n",
       "      <td>0</td>\n",
       "      <td>0</td>\n",
       "      <td>0</td>\n",
       "      <td>0</td>\n",
       "      <td>0</td>\n",
       "      <td>-0.045536</td>\n",
       "      <td>-0.004654</td>\n",
       "      <td>...</td>\n",
       "      <td>-0.105331</td>\n",
       "      <td>-0.130399</td>\n",
       "      <td>-0.396219</td>\n",
       "      <td>-0.216763</td>\n",
       "      <td>-0.179064</td>\n",
       "      <td>-0.215808</td>\n",
       "      <td>-0.244454</td>\n",
       "      <td>-0.248912</td>\n",
       "      <td>-0.237340</td>\n",
       "      <td>0</td>\n",
       "    </tr>\n",
       "  </tbody>\n",
       "</table>\n",
       "<p>29965 rows × 21 columns</p>\n",
       "</div>"
      ],
      "text/plain": [
       "       EDUCATION       AGE  PAY_0  PAY_2  PAY_3  PAY_4  PAY_5  PAY_6  \\\n",
       "0              3 -1.246078      2      2      0      0      0      0   \n",
       "1              3 -1.029141      0      2      0      0      0      2   \n",
       "2              3 -0.161397      0      0      0      0      0      0   \n",
       "3              3  0.164007      0      0      0      0      0      0   \n",
       "4              3  2.333368      0      0      0      0      0      0   \n",
       "...          ...       ...    ...    ...    ...    ...    ...    ...   \n",
       "29995          1  0.380943      0      0      0      0      0      0   \n",
       "29996          1  0.814815      0      0      0      0      0      0   \n",
       "29997          3  0.164007      4      3      2      0      0      0   \n",
       "29998          1  0.597879      1      0      0      0      0      0   \n",
       "29999          3  1.140219      0      0      0      0      0      0   \n",
       "\n",
       "       BILL_AMT1  BILL_AMT2  ...  BILL_AMT4  BILL_AMT5  BILL_AMT6  PAY_AMT1  \\\n",
       "0      -0.643117  -0.648006  ...  -0.673064  -0.663612  -0.653264 -0.342158   \n",
       "1      -0.659830  -0.667347  ...  -0.622219  -0.606802  -0.598525 -0.342158   \n",
       "2      -0.299280  -0.494553  ...  -0.450369  -0.417822  -0.392257 -0.250556   \n",
       "3      -0.058284  -0.014093  ...  -0.233081  -0.187439  -0.157286 -0.221470   \n",
       "4      -0.579253  -0.611935  ...  -0.347669  -0.348795  -0.332130 -0.221470   \n",
       "...          ...        ...  ...        ...        ...        ...       ...   \n",
       "29995   1.869003   2.016713  ...   0.694467  -0.149982  -0.385023  0.170768   \n",
       "29996  -0.673393  -0.665900  ...  -0.533536  -0.578273  -0.653264 -0.231306   \n",
       "29997  -0.647842  -0.644438  ...  -0.348632  -0.325182  -0.328336 -0.342158   \n",
       "29998  -0.718575   0.409339  ...   0.147013  -0.468681   0.168314  4.841417   \n",
       "29999  -0.045536  -0.004654  ...  -0.105331  -0.130399  -0.396219 -0.216763   \n",
       "\n",
       "       PAY_AMT2  PAY_AMT3  PAY_AMT4  PAY_AMT5  PAY_AMT6  default  \n",
       "0     -0.227257 -0.296984 -0.308253 -0.314331 -0.293562        0  \n",
       "1     -0.213767 -0.240218 -0.244454 -0.314331 -0.181119        0  \n",
       "2     -0.192078 -0.240218 -0.244454 -0.248912 -0.012453        1  \n",
       "3     -0.169565 -0.228864 -0.238074 -0.244398 -0.237340        1  \n",
       "4      1.334009  0.270680  0.265939 -0.269257 -0.255388        1  \n",
       "...         ...       ...       ...       ...       ...      ...  \n",
       "29995  0.610418 -0.012982 -0.113857  0.012763 -0.237340        1  \n",
       "29996 -0.104194  0.213800 -0.300023 -0.314331 -0.293562        1  \n",
       "29997 -0.257145  0.951876 -0.040297 -0.183493 -0.119275        0  \n",
       "29998 -0.109269 -0.230113 -0.185376  3.150512 -0.192138        0  \n",
       "29999 -0.179064 -0.215808 -0.244454 -0.248912 -0.237340        0  \n",
       "\n",
       "[29965 rows x 21 columns]"
      ]
     },
     "execution_count": 137,
     "metadata": {},
     "output_type": "execute_result"
    }
   ],
   "source": [
    "X"
   ]
  },
  {
   "cell_type": "markdown",
   "metadata": {},
   "source": [
    "# Modelling"
   ]
  },
  {
   "cell_type": "code",
   "execution_count": null,
   "metadata": {
    "scrolled": false
   },
   "outputs": [
    {
     "name": "stderr",
     "output_type": "stream",
     "text": [
      "C:\\Users\\rayon\\Anaconda3\\envs\\Task1_test\\lib\\site-packages\\sklearn\\utils\\validation.py:744: DataConversionWarning: A column-vector y was passed when a 1d array was expected. Please change the shape of y to (n_samples, ), for example using ravel().\n",
      "  y = column_or_1d(y, warn=True)\n"
     ]
    }
   ],
   "source": [
    "algo = SVC(C=1, kernel= 'linear')\n",
    "predic = algo.fit(X_train, y_train).predict(X_test)\n",
    "print(classification_report(y_test,predic))\n",
    "print(confusion_matrix(y_test, predic))"
   ]
  },
  {
   "cell_type": "code",
   "execution_count": 73,
   "metadata": {},
   "outputs": [
    {
     "name": "stdout",
     "output_type": "stream",
     "text": [
      "              precision    recall  f1-score   support\n",
      "\n",
      "           0       0.46      0.89      0.60      2294\n",
      "           1       0.55      0.35      0.43      2338\n",
      "           2       0.38      0.23      0.29      2249\n",
      "           3       0.52      0.41      0.46      2109\n",
      "\n",
      "    accuracy                           0.47      8990\n",
      "   macro avg       0.47      0.47      0.44      8990\n",
      "weighted avg       0.47      0.47      0.44      8990\n",
      "\n",
      "[[2035  122   98   39]\n",
      " [1103  821  259  155]\n",
      " [ 777  349  519  604]\n",
      " [ 533  211  505  860]]\n"
     ]
    }
   ],
   "source": [
    "algo = RandomForestClassifier(max_depth=2, random_state=123)\n",
    "predic = algo.fit(X_train, y_train).predict(X_test)\n",
    "print(classification_report(y_test,predic))\n",
    "print(confusion_matrix(y_test, predic))"
   ]
  },
  {
   "cell_type": "code",
   "execution_count": 119,
   "metadata": {
    "scrolled": true
   },
   "outputs": [
    {
     "name": "stderr",
     "output_type": "stream",
     "text": [
      "C:\\Users\\rayon\\Anaconda3\\envs\\Task1_test\\lib\\site-packages\\sklearn\\ensemble\\_gb.py:1454: DataConversionWarning: A column-vector y was passed when a 1d array was expected. Please change the shape of y to (n_samples, ), for example using ravel().\n",
      "  y = column_or_1d(y, warn=True)\n",
      "C:\\Users\\rayon\\Anaconda3\\envs\\Task1_test\\lib\\site-packages\\sklearn\\ensemble\\_gb.py:1337: FutureWarning: The parameter 'presort' is deprecated and has no effect. It will be removed in v0.24. You can suppress this warning by not passing any value to the 'presort' parameter. We also recommend using HistGradientBoosting models instead.\n",
      "  warnings.warn(\"The parameter 'presort' is deprecated and has no \"\n"
     ]
    },
    {
     "name": "stdout",
     "output_type": "stream",
     "text": [
      "              precision    recall  f1-score   support\n",
      "\n",
      "           0       0.67      0.85      0.75      2294\n",
      "           1       0.53      0.45      0.48      1465\n",
      "           2       0.44      0.41      0.42      1846\n",
      "           3       0.40      0.30      0.34      1617\n",
      "           4       0.51      0.56      0.53      1768\n",
      "\n",
      "    accuracy                           0.54      8990\n",
      "   macro avg       0.51      0.51      0.51      8990\n",
      "weighted avg       0.52      0.54      0.52      8990\n",
      "\n",
      "[[1941  102  121   69   61]\n",
      " [ 433  653  216   78   85]\n",
      " [ 255  271  765  260  295]\n",
      " [ 142  118  380  481  496]\n",
      " [ 111   84  272  314  987]]\n"
     ]
    }
   ],
   "source": [
    "algo = GradientBoostingClassifier(criterion='friedman_mse', init=None,\n",
    "          learning_rate=0.2, loss='deviance', max_depth=3,\n",
    "          max_features=None, max_leaf_nodes=None, min_samples_leaf=1,\n",
    "          min_samples_split=2, min_weight_fraction_leaf=0.0,\n",
    "          n_estimators=80, presort='auto', random_state=123,\n",
    "          subsample=1.0, verbose=0, warm_start=False)\n",
    "predic = algo.fit(X_train, y_train).predict(X_test)\n",
    "print(classification_report(y_test,predic))\n",
    "print(confusion_matrix(y_test, predic))"
   ]
  },
  {
   "cell_type": "code",
   "execution_count": 120,
   "metadata": {},
   "outputs": [
    {
     "name": "stdout",
     "output_type": "stream",
     "text": [
      "0.5369299221357063\n"
     ]
    }
   ],
   "source": [
    "print(accuracy_score(y_test,predic))"
   ]
  },
  {
   "cell_type": "code",
   "execution_count": 65,
   "metadata": {
    "scrolled": true
   },
   "outputs": [
    {
     "name": "stdout",
     "output_type": "stream",
     "text": [
      "              precision    recall  f1-score   support\n",
      "\n",
      "           0       0.53      0.78      0.63      2294\n",
      "           1       0.54      0.22      0.31      2338\n",
      "           2       0.41      0.54      0.47      2249\n",
      "           3       0.42      0.34      0.37      2109\n",
      "\n",
      "    accuracy                           0.47      8990\n",
      "   macro avg       0.47      0.47      0.45      8990\n",
      "weighted avg       0.48      0.47      0.45      8990\n",
      "\n",
      "[[1784    4  300  206]\n",
      " [1037  517  443  341]\n",
      " [ 332  264 1222  431]\n",
      " [ 228  177  992  712]]\n"
     ]
    }
   ],
   "source": [
    "algo = DecisionTreeClassifier(random_state=123, max_depth= 3,criterion=\"entropy\",\n",
    "                             splitter=\"best\",min_samples_split=2)\n",
    "model = algo.fit(X_train, y_train)\n",
    "predic = model.predict(X_test)\n",
    "print(classification_report(y_test,predic))\n",
    "print(confusion_matrix(y_test, predic))"
   ]
  },
  {
   "cell_type": "markdown",
   "metadata": {},
   "source": [
    "On the initail analysis, the highest accuracy is 53%. This is acheived for the algorithm GradientBoostingClassifier.\n",
    "\n",
    "There can be some features which might cause the algorith to perform poor. Lets take a look into it."
   ]
  },
  {
   "cell_type": "code",
   "execution_count": 37,
   "metadata": {},
   "outputs": [],
   "source": [
    "credit_samples = credit.sample(100)\n",
    "X= credit.iloc[:,1:]\n",
    "y= credit.iloc[:,:1]\n",
    "X_sample= credit_samples.iloc[:,1:]\n",
    "y_sample= credit_samples.iloc[:,:1]\n",
    "\n",
    "X_train,X_test,y_train,y_test = train_test_split(X,y,test_size=0.30,random_state=123)\n",
    "X_Strain,X_Stest,y_Strain,y_Stest = train_test_split(X_sample,y_sample,test_size=0.30,random_state=123)"
   ]
  },
  {
   "cell_type": "code",
   "execution_count": 268,
   "metadata": {
    "scrolled": true
   },
   "outputs": [
    {
     "name": "stdout",
     "output_type": "stream",
     "text": [
      "              precision    recall  f1-score   support\n",
      "\n",
      "           0       0.67      0.85      0.75      2294\n",
      "           1       0.53      0.45      0.48      1465\n",
      "           2       0.44      0.41      0.42      1846\n",
      "           3       0.40      0.30      0.34      1617\n",
      "           4       0.51      0.56      0.53      1768\n",
      "\n",
      "    accuracy                           0.54      8990\n",
      "   macro avg       0.51      0.51      0.51      8990\n",
      "weighted avg       0.52      0.54      0.52      8990\n",
      "\n",
      "[[1941  102  121   69   61]\n",
      " [ 433  653  216   78   85]\n",
      " [ 255  271  765  260  295]\n",
      " [ 142  118  380  481  496]\n",
      " [ 111   84  272  314  987]]\n"
     ]
    }
   ],
   "source": [
    "algo = GradientBoostingClassifier(criterion='friedman_mse', init=None,\n",
    "          learning_rate=0.2, loss='deviance', max_depth=3,\n",
    "          max_features=None, max_leaf_nodes=None, min_samples_leaf=1,\n",
    "          min_samples_split=2, min_weight_fraction_leaf=0.0,\n",
    "          n_estimators=80, presort='auto', random_state=123,\n",
    "          subsample=1.0, verbose=0, warm_start=False)\n",
    "predic = algo.fit(X_train, y_train).predict(X_test)\n",
    "print(classification_report(y_test,predic))\n",
    "print(confusion_matrix(y_test, predic))"
   ]
  },
  {
   "cell_type": "code",
   "execution_count": 270,
   "metadata": {},
   "outputs": [
    {
     "name": "stdout",
     "output_type": "stream",
     "text": [
      "0.5369299221357063\n"
     ]
    }
   ],
   "source": [
    "print(accuracy_score(y_test,predic))"
   ]
  },
  {
   "cell_type": "markdown",
   "metadata": {},
   "source": [
    "Lets see which features are important"
   ]
  },
  {
   "cell_type": "code",
   "execution_count": 129,
   "metadata": {},
   "outputs": [],
   "source": [
    "import shap\n",
    "import pdpbox \n",
    "import time\n",
    "from pdpbox import pdp, get_dataset, info_plots\n",
    "from sklearn.inspection import permutation_importance"
   ]
  },
  {
   "cell_type": "code",
   "execution_count": 140,
   "metadata": {
    "scrolled": false
   },
   "outputs": [
    {
     "data": {
      "text/html": [
       "['EDUCATION', 'AGE', 'PAY_0', 'PAY_2', 'PAY_3', 'PAY_4', 'PAY_5', 'PAY_6', 'BILL_AMT1', 'BILL_AMT2', 'BILL_AMT3', 'BILL_AMT4', 'BILL_AMT5', 'BILL_AMT6', 'PAY_AMT1', 'PAY_AMT2', 'PAY_AMT3', 'PAY_AMT4', 'PAY_AMT5', 'PAY_AMT6', 'default']"
      ],
      "text/plain": [
       "['EDUCATION',\n",
       " 'AGE',\n",
       " 'PAY_0',\n",
       " 'PAY_2',\n",
       " 'PAY_3',\n",
       " 'PAY_4',\n",
       " 'PAY_5',\n",
       " 'PAY_6',\n",
       " 'BILL_AMT1',\n",
       " 'BILL_AMT2',\n",
       " 'BILL_AMT3',\n",
       " 'BILL_AMT4',\n",
       " 'BILL_AMT5',\n",
       " 'BILL_AMT6',\n",
       " 'PAY_AMT1',\n",
       " 'PAY_AMT2',\n",
       " 'PAY_AMT3',\n",
       " 'PAY_AMT4',\n",
       " 'PAY_AMT5',\n",
       " 'PAY_AMT6',\n",
       " 'default']"
      ]
     },
     "execution_count": 140,
     "metadata": {},
     "output_type": "execute_result"
    }
   ],
   "source": [
    "names = X.columns.tolist()\n",
    "names"
   ]
  },
  {
   "cell_type": "markdown",
   "metadata": {},
   "source": [
    "To compute the shap value, let's use grandiient boosting classifier"
   ]
  },
  {
   "cell_type": "code",
   "execution_count": 141,
   "metadata": {},
   "outputs": [],
   "source": [
    "# algo = GradientBoostingClassifier(criterion='friedman_mse', init=None,\n",
    "#           learning_rate=0.2, loss='deviance', max_depth=3,\n",
    "#           max_features=None, max_leaf_nodes=None, min_samples_leaf=1,\n",
    "#           min_samples_split=2, min_weight_fraction_leaf=0.0,\n",
    "#           n_estimators=80, presort='auto', random_state=123,\n",
    "#           subsample=1.0, verbose=0, warm_start=False)\n",
    "\n",
    "algo = DecisionTreeClassifier(random_state=123, max_depth= 3,criterion=\"entropy\",\n",
    "                             splitter=\"best\",min_samples_split=2)\n",
    "\n",
    "model = algo.fit(X_train, y_train)"
   ]
  },
  {
   "cell_type": "code",
   "execution_count": 142,
   "metadata": {},
   "outputs": [
    {
     "name": "stdout",
     "output_type": "stream",
     "text": [
      "Computing SHAP...\n",
      "Expected Value: [0.25644815 0.1598093  0.20348033 0.18092968 0.19933254]\n",
      "done in 0.064s\n"
     ]
    }
   ],
   "source": [
    "print('Computing SHAP...')\n",
    "tic = time.time()\n",
    "\n",
    "# Using TreeSHAP, not KernelSHAP. The former runs quicker but only available for tree-based model.\n",
    "# Example of KernelExplainer: \"shap.KernelExplainer(reg.predict, X_test)\" Notice you need to assign prediction function and data.\n",
    "# I test-ran and only to run 100 samples out of 6258, it took 120 seconds!!\n",
    "explainer = shap.TreeExplainer(model)\n",
    "print('Expected Value:', explainer.expected_value)\n",
    "shap_values = explainer.shap_values(X_test)\n",
    "print(\"done in {:.3f}s\".format(time.time() - tic)) # 0.671s\n",
    "\n",
    "# # Show how the SHAP values output looks like.\n",
    "# pd.DataFrame(shap_values,columns=X_test.columns)"
   ]
  },
  {
   "cell_type": "code",
   "execution_count": 143,
   "metadata": {
    "scrolled": true
   },
   "outputs": [
    {
     "data": {
      "image/png": "[encoded data removed]",
      "text/plain": [
       "<Figure size 576x684 with 1 Axes>"
      ]
     },
     "metadata": {
      "needs_background": "light"
     },
     "output_type": "display_data"
    }
   ],
   "source": [
    "shap.summary_plot(shap_values, X_train, plot_type=\"bar\")"
   ]
  },
  {
   "cell_type": "code",
   "execution_count": 144,
   "metadata": {},
   "outputs": [
    {
     "data": {
      "image/png": "[encoded data removed]",
      "text/plain": [
       "<Figure size 864x360 with 2 Axes>"
      ]
     },
     "metadata": {
      "needs_background": "light"
     },
     "output_type": "display_data"
    }
   ],
   "source": [
    "# Getting tree-based model variable importance.\n",
    "tiout = np.array(model.feature_importances_)/sum(model.feature_importances_)\n",
    "tree_importance_sorted_idx = np.argsort(tiout)\n",
    "tree_indices = np.arange(0, len(tiout)) + 0.5\n",
    "\n",
    "# Getting permutation importance.\n",
    "result = permutation_importance(model, X_test, y_test, n_repeats=10, random_state=42)\n",
    "perm_sorted_idx = result.importances_mean.argsort()\n",
    "\n",
    "# Visualize two variable importance plots.\n",
    "fig, (ax1, ax2) = plt.subplots(1, 2, figsize=(12, 5))\n",
    "\n",
    "ax1.title.set_text('Tree-based Model Variable Importance')\n",
    "ax1.barh(tree_indices,\n",
    "         tiout[tree_importance_sorted_idx], \n",
    "         height=0.7)\n",
    "ax1.set_yticklabels(X_test.columns[tree_importance_sorted_idx])\n",
    "ax1.set_yticks(tree_indices)\n",
    "ax1.set_ylim((0, len(tiout)))\n",
    "\n",
    "ax2.title.set_text('Permutation Importance')\n",
    "ax2.boxplot(result.importances[perm_sorted_idx].T, vert=False,\n",
    "            labels=X_test.columns[perm_sorted_idx])\n",
    "\n",
    "fig.tight_layout()\n",
    "plt.show()"
   ]
  },
  {
   "cell_type": "markdown",
   "metadata": {},
   "source": [
    "Drop Column feature importance"
   ]
  },
  {
   "cell_type": "code",
   "execution_count": 38,
   "metadata": {},
   "outputs": [],
   "source": [
    "algo = GradientBoostingClassifier()\n",
    "model = algo.fit(X_train, y_train)"
   ]
  },
  {
   "cell_type": "code",
   "execution_count": 39,
   "metadata": {},
   "outputs": [],
   "source": [
    "# function for creating a feature importance dataframe\n",
    "def imp_df(column_names, importances):\n",
    "    df = pd.DataFrame({'feature': column_names,\n",
    "                       'feature_importance': importances}) \\\n",
    "           .sort_values('feature_importance', ascending = False) \\\n",
    "           .reset_index(drop = True)\n",
    "    return df\n",
    "\n",
    "\n",
    "# plotting a feature importance dataframe (horizontal barchart)\n",
    "def var_imp_plot(imp_df, title):\n",
    "    imp_df.columns = ['feature', 'feature_importance']\n",
    "    sns.barplot(x = 'feature_importance', y = 'feature', data = imp_df, orient = 'h', color = 'royalblue') \\\n",
    "       .set_title(title, fontsize = 20)"
   ]
  },
  {
   "cell_type": "code",
   "execution_count": 40,
   "metadata": {},
   "outputs": [],
   "source": [
    "from sklearn.base import clone \n",
    "\n",
    "\n",
    "def drop_col_feat_imp(model, X_train, y_train, random_state = 42):\n",
    "    \n",
    "    # clone the model to have the exact same specification as the one initially trained\n",
    "    model_clone = clone(model)\n",
    "    # set random_state for comparability\n",
    "    model_clone.random_state = random_state\n",
    "    # training and scoring the benchmark model\n",
    "    model_clone.fit(X_train, y_train)\n",
    "    benchmark_score = model_clone.score(X_train, y_train)\n",
    "    # list for storing feature importances\n",
    "    importances = []\n",
    "    \n",
    "    # iterating over all columns and storing feature importance (difference between benchmark and new model)\n",
    "    for col in X_train.columns:\n",
    "        model_clone = clone(model)\n",
    "        model_clone.random_state = random_state\n",
    "        model_clone.fit(X_train.drop(col, axis = 1), y_train)\n",
    "        drop_col_score = model_clone.score(X_train.drop(col, axis = 1), y_train)\n",
    "        importances.append(benchmark_score - drop_col_score)\n",
    "    \n",
    "    importances_df = imp_df(X_train.columns, importances)\n",
    "    return importances_df"
   ]
  },
  {
   "cell_type": "code",
   "execution_count": 41,
   "metadata": {
    "scrolled": false
   },
   "outputs": [
    {
     "data": {
      "image/png": "[encoded data removed]",
      "text/plain": [
       "<Figure size 648x648 with 1 Axes>"
      ]
     },
     "metadata": {},
     "output_type": "display_data"
    }
   ],
   "source": [
    "drop_imp = drop_col_feat_imp(model, X_train, y_train)\n",
    "var_imp_plot(drop_imp, 'Drop Column feature importance')"
   ]
  },
  {
   "cell_type": "markdown",
   "metadata": {},
   "source": [
    "Feature selection"
   ]
  },
  {
   "cell_type": "code",
   "execution_count": 149,
   "metadata": {},
   "outputs": [
    {
     "data": {
      "text/plain": [
       "Index(['EDUCATION', 'AGE', 'PAY_0', 'PAY_2', 'PAY_3', 'PAY_4', 'PAY_5',\n",
       "       'PAY_6', 'BILL_AMT1', 'BILL_AMT2', 'BILL_AMT3', 'BILL_AMT4',\n",
       "       'BILL_AMT5', 'BILL_AMT6', 'PAY_AMT1', 'PAY_AMT2', 'PAY_AMT3',\n",
       "       'PAY_AMT4', 'PAY_AMT5', 'PAY_AMT6', 'default'],\n",
       "      dtype='object')"
      ]
     },
     "execution_count": 149,
     "metadata": {},
     "output_type": "execute_result"
    }
   ],
   "source": [
    "X_test.columns"
   ]
  },
  {
   "cell_type": "code",
   "execution_count": 150,
   "metadata": {
    "scrolled": false
   },
   "outputs": [
    {
     "name": "stdout",
     "output_type": "stream",
     "text": [
      "[2.336 0.555 4.915 4.658 1.45  0.986 0.926 1.086 4.204 2.241 2.563 2.128\n",
      " 2.21  2.165 4.183 1.374 1.394 1.716 3.72  3.692 2.046]\n",
      "[[ 3.     2.     2.    -0.643 -0.648 -0.669 -0.342 -0.314 -0.294]\n",
      " [ 3.     0.     2.    -0.66  -0.667 -0.64  -0.342 -0.314 -0.181]\n",
      " [ 3.     0.     0.    -0.299 -0.495 -0.483 -0.251 -0.249 -0.012]\n",
      " [ 3.     0.     0.    -0.058 -0.014  0.032 -0.221 -0.244 -0.237]\n",
      " [ 3.     0.     0.    -0.579 -0.612 -0.162 -0.221 -0.269 -0.255]]\n"
     ]
    }
   ],
   "source": [
    "test = SelectKBest(score_func=f_classif, k=9)\n",
    "fit = test.fit(X_sample, y_sample)\n",
    "# summarize scores\n",
    "set_printoptions(precision=3)\n",
    "print(fit.scores_)\n",
    "features = fit.transform(X)\n",
    "# summarize selected features\n",
    "print(features[0:5,:])"
   ]
  },
  {
   "cell_type": "code",
   "execution_count": 151,
   "metadata": {},
   "outputs": [
    {
     "data": {
      "text/html": [
       "['AGE', 'BILL_AMT3', 'PAY_AMT1', 'PAY_AMT2', 'PAY_AMT4']"
      ],
      "text/plain": [
       "['AGE', 'BILL_AMT3', 'PAY_AMT1', 'PAY_AMT2', 'PAY_AMT4']"
      ]
     },
     "execution_count": 151,
     "metadata": {},
     "output_type": "execute_result"
    }
   ],
   "source": [
    "credit_samples = credit.sample(100)\n",
    "X= credit.iloc[:,1:]\n",
    "y= credit.iloc[:,:1]\n",
    "X_sample= credit_samples.iloc[:,1:]\n",
    "y_sample= credit_samples.iloc[:,:1]\n",
    "\n",
    "feature_names = X.columns\n",
    "\n",
    "# pipe =  Pipeline([\n",
    "#   ('feature_selection', SelectFromModel(LinearSVC(loss='l2', penalty='l1', dual=False))),\n",
    "#   ('classification', RandomForestClassifier())\n",
    "# ])\n",
    "\n",
    "class PipelineRFE(Pipeline):\n",
    "\n",
    "    def fit(self, X, y=None, **fit_params):\n",
    "        super(PipelineRFE, self).fit(X, y, **fit_params)\n",
    "        self.feature_importances_ = self.steps[-1][-1].feature_importances_\n",
    "        return self\n",
    "    \n",
    "\n",
    "\n",
    "pipe = PipelineRFE(\n",
    "    [\n",
    "        ('std_scaler', preprocessing.StandardScaler()),\n",
    "        (\"ET\", GradientBoostingClassifier(criterion='friedman_mse', init=None,\n",
    "          learning_rate=0.2, loss='deviance', max_depth=3,\n",
    "          max_features=None, max_leaf_nodes=None, min_samples_leaf=1,\n",
    "          min_samples_split=2, min_weight_fraction_leaf=0.0,\n",
    "          n_estimators=90, presort='auto', random_state=None,\n",
    "          subsample=1.0, verbose=0, warm_start=False))\n",
    "    ]\n",
    ")\n",
    "\n",
    "# Sets RNG seed to reproduce results (your results should match mine)\n",
    "_ = StratifiedKFold(random_state=42)\n",
    "\n",
    "feature_selector_cv = feature_selection.RFECV(pipe, cv=3, step=1, scoring=\"accuracy\")\n",
    "feature_selector_cv.fit(X_sample, y_sample)\n",
    "\n",
    "feature_selector_cv.n_features_\n",
    "cv_grid = (-feature_selector_cv.grid_scores_)\n",
    "cv_grid\n",
    "\n",
    "selected_features = feature_names[feature_selector_cv.support_].tolist()\n",
    "selected_features"
   ]
  },
  {
   "cell_type": "markdown",
   "metadata": {},
   "source": [
    "# Feature removal"
   ]
  },
  {
   "cell_type": "markdown",
   "metadata": {},
   "source": [
    "The item selection didnt work. So let us remove some feature"
   ]
  },
  {
   "cell_type": "code",
   "execution_count": 34,
   "metadata": {},
   "outputs": [],
   "source": [
    "feature = credit.columns.tolist()\n",
    "items_to_remove= [ 'PAY_AMT4', 'PAY_AMT2',\n",
    "                  'PAY_2', 'PAY_3','PAY_4', 'PAY_5', 'PAY_6',]"
   ]
  },
  {
   "cell_type": "code",
   "execution_count": 35,
   "metadata": {
    "scrolled": false
   },
   "outputs": [
    {
     "data": {
      "text/plain": [
       "['LIMIT_BAL',\n",
       " 'EDUCATION',\n",
       " 'AGE',\n",
       " 'PAY_0',\n",
       " 'BILL_AMT1',\n",
       " 'BILL_AMT2',\n",
       " 'BILL_AMT3',\n",
       " 'BILL_AMT4',\n",
       " 'BILL_AMT5',\n",
       " 'BILL_AMT6',\n",
       " 'PAY_AMT1',\n",
       " 'PAY_AMT3',\n",
       " 'PAY_AMT5',\n",
       " 'PAY_AMT6',\n",
       " 'default']"
      ]
     },
     "execution_count": 35,
     "metadata": {},
     "output_type": "execute_result"
    }
   ],
   "source": [
    "feature = [item for item in feature if item not in items_to_remove]\n",
    "feature"
   ]
  },
  {
   "cell_type": "code",
   "execution_count": 36,
   "metadata": {},
   "outputs": [
    {
     "name": "stdout",
     "output_type": "stream",
     "text": [
      "              precision    recall  f1-score   support\n",
      "\n",
      "           0       0.66      0.85      0.74      2294\n",
      "           1       0.54      0.45      0.49      1465\n",
      "           2       0.45      0.43      0.44      1846\n",
      "           3       0.40      0.30      0.34      1617\n",
      "           4       0.51      0.54      0.53      1768\n",
      "\n",
      "    accuracy                           0.54      8990\n",
      "   macro avg       0.51      0.51      0.51      8990\n",
      "weighted avg       0.52      0.54      0.52      8990\n",
      "\n",
      "[[1943  102  124   72   53]\n",
      " [ 448  659  195   79   84]\n",
      " [ 258  267  785  245  291]\n",
      " [ 166  118  361  478  494]\n",
      " [ 118   81  274  335  960]]\n",
      "0.5367074527252503\n"
     ]
    }
   ],
   "source": [
    "credit_samples = credit[feature].sample(100)\n",
    "X= credit[feature].iloc[:,1:]\n",
    "y= credit[feature].iloc[:,:1]\n",
    "X_sample= credit_samples.iloc[:,1:]\n",
    "y_sample= credit_samples.iloc[:,:1]\n",
    "\n",
    "# X = StandardScaler().fit_transform(X)\n",
    "# X\n",
    "\n",
    "X_train,X_test,y_train,y_test = train_test_split(X,y,test_size=0.30,random_state=123)\n",
    "X_Strain,X_Stest,y_Strain,y_Stest = train_test_split(X_sample,y_sample,test_size=0.30,random_state=123)\n",
    "\n",
    "algo = GradientBoostingClassifier(criterion='friedman_mse', init=None,\n",
    "          learning_rate=0.2, loss='deviance', max_depth=3,\n",
    "          max_features=None, max_leaf_nodes=None, min_samples_leaf=1,\n",
    "          min_samples_split=2, min_weight_fraction_leaf=0.0,\n",
    "          n_estimators=80, presort='auto', random_state=123,\n",
    "          subsample=1.0, verbose=0, warm_start=False)\n",
    "predic = algo.fit(X_train, y_train).predict(X_test)\n",
    "print(classification_report(y_test,predic))\n",
    "print(confusion_matrix(y_test, predic))\n",
    "print(accuracy_score(y_test,predic))"
   ]
  },
  {
   "cell_type": "markdown",
   "metadata": {},
   "source": [
    "If you want to see which model algorithm predicts more good.. lets do the below"
   ]
  },
  {
   "cell_type": "code",
   "execution_count": 292,
   "metadata": {},
   "outputs": [
    {
     "name": "stdout",
     "output_type": "stream",
     "text": [
      "Accuracy (train) for L1 logistic: 40.0% \n",
      "Accuracy (train) for L2 logistic (Multinomial): 43.3% \n",
      "Accuracy (train) for L2 logistic (OvR): 40.0% \n",
      "Accuracy (train) for Linear SVC: 33.3% \n",
      "Accuracy (train) for Random Forest: 36.7% \n"
     ]
    }
   ],
   "source": [
    "C = 1\n",
    "kernel = 1.0 * RBF([1.0, 1.0])  # for GPC\n",
    "classifiers = {\n",
    "    'L1 logistic': LogisticRegression(C=C, penalty='l1',\n",
    "                                      solver='saga',\n",
    "                                      multi_class='multinomial',\n",
    "                                      max_iter=10000),\n",
    "    'L2 logistic (Multinomial)': LogisticRegression(C=C, penalty='l2',\n",
    "                                                    solver='saga',\n",
    "                                                    multi_class='multinomial',\n",
    "                                                    max_iter=10000),\n",
    "    'L2 logistic (OvR)': LogisticRegression(C=C, penalty='l2',\n",
    "                                            solver='saga',\n",
    "                                            multi_class='ovr',\n",
    "                                            max_iter=10000),\n",
    "    'Linear SVC': SVC(kernel='rbf', C=C, probability=True,\n",
    "                      random_state=0),\n",
    "    'Random Forest': RandomForestClassifier(random_state=123)\n",
    "#     'GPC': GaussianProcessClassifier(kernel)\n",
    "}\n",
    "\n",
    "n_classifiers = len(classifiers)\n",
    "n_classifiers = len(classifiers)\n",
    "for index, (name, classifier) in enumerate(classifiers.items()):\n",
    "    classifier.fit(X_Strain, y_Strain)\n",
    "    y_pred = classifier.predict(X_Stest)\n",
    "    accuracy = accuracy_score(y_Stest, y_pred)\n",
    "    print(\"Accuracy (train) for %s: %0.1f%% \" % (name, accuracy * 100))"
   ]
  },
  {
   "cell_type": "code",
   "execution_count": 293,
   "metadata": {},
   "outputs": [
    {
     "data": {
      "text/html": [
       "['mean_fit_time', 'mean_score_time', 'mean_test_score', 'param_C', 'param_kernel', 'params', 'rank_test_score', 'split0_test_score', 'split1_test_score', 'split2_test_score', 'split3_test_score', 'split4_test_score', 'std_fit_time', 'std_score_time', 'std_test_score']"
      ],
      "text/plain": [
       "['mean_fit_time',\n",
       " 'mean_score_time',\n",
       " 'mean_test_score',\n",
       " 'param_C',\n",
       " 'param_kernel',\n",
       " 'params',\n",
       " 'rank_test_score',\n",
       " 'split0_test_score',\n",
       " 'split1_test_score',\n",
       " 'split2_test_score',\n",
       " 'split3_test_score',\n",
       " 'split4_test_score',\n",
       " 'std_fit_time',\n",
       " 'std_score_time',\n",
       " 'std_test_score']"
      ]
     },
     "execution_count": 293,
     "metadata": {},
     "output_type": "execute_result"
    }
   ],
   "source": [
    "#testing the accuracy with gamma value\n",
    "algo = SVC()\n",
    "parameters = {'kernel':('linear', 'rbf','poly'), 'C':[1,500,600000]}\n",
    "clf = GridSearchCV(algo, parameters)\n",
    "clf.fit(X_Strain,y_Strain)\n",
    "GridSearchCV(estimator=SVC(),\n",
    "             param_grid={'C': [1,10,500,600000], 'kernel': ('linear', 'rbf','poly')})\n",
    "sorted(clf.cv_results_.keys())"
   ]
  },
  {
   "cell_type": "code",
   "execution_count": 294,
   "metadata": {},
   "outputs": [
    {
     "data": {
      "text/html": [
       "<div>\n",
       "<style scoped>\n",
       "    .dataframe tbody tr th:only-of-type {\n",
       "        vertical-align: middle;\n",
       "    }\n",
       "\n",
       "    .dataframe tbody tr th {\n",
       "        vertical-align: top;\n",
       "    }\n",
       "\n",
       "    .dataframe thead th {\n",
       "        text-align: right;\n",
       "    }\n",
       "</style>\n",
       "<table border=\"1\" class=\"dataframe\">\n",
       "  <thead>\n",
       "    <tr style=\"text-align: right;\">\n",
       "      <th></th>\n",
       "      <th>C</th>\n",
       "      <th>kernel</th>\n",
       "      <th>Accuracy</th>\n",
       "    </tr>\n",
       "  </thead>\n",
       "  <tbody>\n",
       "    <tr>\n",
       "      <th>0</th>\n",
       "      <td>1</td>\n",
       "      <td>linear</td>\n",
       "      <td>0.400000</td>\n",
       "    </tr>\n",
       "    <tr>\n",
       "      <th>1</th>\n",
       "      <td>1</td>\n",
       "      <td>rbf</td>\n",
       "      <td>0.300000</td>\n",
       "    </tr>\n",
       "    <tr>\n",
       "      <th>2</th>\n",
       "      <td>1</td>\n",
       "      <td>poly</td>\n",
       "      <td>0.242857</td>\n",
       "    </tr>\n",
       "    <tr>\n",
       "      <th>3</th>\n",
       "      <td>500</td>\n",
       "      <td>linear</td>\n",
       "      <td>0.357143</td>\n",
       "    </tr>\n",
       "    <tr>\n",
       "      <th>4</th>\n",
       "      <td>500</td>\n",
       "      <td>rbf</td>\n",
       "      <td>0.342857</td>\n",
       "    </tr>\n",
       "    <tr>\n",
       "      <th>5</th>\n",
       "      <td>500</td>\n",
       "      <td>poly</td>\n",
       "      <td>0.342857</td>\n",
       "    </tr>\n",
       "    <tr>\n",
       "      <th>6</th>\n",
       "      <td>600000</td>\n",
       "      <td>linear</td>\n",
       "      <td>0.328571</td>\n",
       "    </tr>\n",
       "    <tr>\n",
       "      <th>7</th>\n",
       "      <td>600000</td>\n",
       "      <td>rbf</td>\n",
       "      <td>0.342857</td>\n",
       "    </tr>\n",
       "    <tr>\n",
       "      <th>8</th>\n",
       "      <td>600000</td>\n",
       "      <td>poly</td>\n",
       "      <td>0.357143</td>\n",
       "    </tr>\n",
       "  </tbody>\n",
       "</table>\n",
       "</div>"
      ],
      "text/plain": [
       "        C  kernel  Accuracy\n",
       "0       1  linear  0.400000\n",
       "1       1     rbf  0.300000\n",
       "2       1    poly  0.242857\n",
       "3     500  linear  0.357143\n",
       "4     500     rbf  0.342857\n",
       "5     500    poly  0.342857\n",
       "6  600000  linear  0.328571\n",
       "7  600000     rbf  0.342857\n",
       "8  600000    poly  0.357143"
      ]
     },
     "execution_count": 294,
     "metadata": {},
     "output_type": "execute_result"
    }
   ],
   "source": [
    "pd.concat([pd.DataFrame(clf.cv_results_[\"params\"]),pd.DataFrame(clf.cv_results_[\"mean_test_score\"], columns=[\"Accuracy\"])],axis=1)"
   ]
  },
  {
   "cell_type": "markdown",
   "metadata": {},
   "source": [
    "anaother simple way of making the gridsearch fill the stuff is "
   ]
  },
  {
   "cell_type": "code",
   "execution_count": 295,
   "metadata": {},
   "outputs": [
    {
     "name": "stdout",
     "output_type": "stream",
     "text": [
      "Fitting 5 folds for each of 9 candidates, totalling 45 fits\n",
      "[CV] C=1, kernel=linear ..............................................\n",
      "[CV] ............................... C=1, kernel=linear, total=   0.0s\n",
      "[CV] C=1, kernel=linear ..............................................\n",
      "[CV] ............................... C=1, kernel=linear, total=   0.0s\n",
      "[CV] C=1, kernel=linear ..............................................\n",
      "[CV] ............................... C=1, kernel=linear, total=   0.0s\n",
      "[CV] C=1, kernel=linear ..............................................\n",
      "[CV] ............................... C=1, kernel=linear, total=   0.0s\n",
      "[CV] C=1, kernel=linear ..............................................\n",
      "[CV] ............................... C=1, kernel=linear, total=   0.0s\n",
      "[CV] C=1, kernel=rbf .................................................\n",
      "[CV] .................................. C=1, kernel=rbf, total=   0.0s\n",
      "[CV] C=1, kernel=rbf .................................................\n",
      "[CV] .................................. C=1, kernel=rbf, total=   0.0s\n",
      "[CV] C=1, kernel=rbf .................................................\n",
      "[CV] .................................. C=1, kernel=rbf, total=   0.0s\n",
      "[CV] C=1, kernel=rbf .................................................\n",
      "[CV] .................................. C=1, kernel=rbf, total=   0.0s\n",
      "[CV] C=1, kernel=rbf .................................................\n",
      "[CV] .................................. C=1, kernel=rbf, total=   0.0s\n",
      "[CV] C=1, kernel=poly ................................................\n",
      "[CV] ................................. C=1, kernel=poly, total=   0.0s\n",
      "[CV] C=1, kernel=poly ................................................\n",
      "[CV] ................................. C=1, kernel=poly, total=   0.0s\n",
      "[CV] C=1, kernel=poly ................................................\n",
      "[CV] ................................. C=1, kernel=poly, total=   0.0s\n",
      "[CV] C=1, kernel=poly ................................................\n",
      "[CV] ................................. C=1, kernel=poly, total=   0.0s\n",
      "[CV] C=1, kernel=poly ................................................\n",
      "[CV] ................................. C=1, kernel=poly, total=   0.0s\n",
      "[CV] C=1000, kernel=linear ...........................................\n"
     ]
    },
    {
     "name": "stderr",
     "output_type": "stream",
     "text": [
      "[Parallel(n_jobs=1)]: Using backend SequentialBackend with 1 concurrent workers.\n",
      "[Parallel(n_jobs=1)]: Done   1 out of   1 | elapsed:    0.0s remaining:    0.0s\n"
     ]
    },
    {
     "name": "stdout",
     "output_type": "stream",
     "text": [
      "[CV] ............................ C=1000, kernel=linear, total=   0.1s\n",
      "[CV] C=1000, kernel=linear ...........................................\n",
      "[CV] ............................ C=1000, kernel=linear, total=   0.1s\n",
      "[CV] C=1000, kernel=linear ...........................................\n",
      "[CV] ............................ C=1000, kernel=linear, total=   0.1s\n",
      "[CV] C=1000, kernel=linear ...........................................\n",
      "[CV] ............................ C=1000, kernel=linear, total=   0.1s\n",
      "[CV] C=1000, kernel=linear ...........................................\n",
      "[CV] ............................ C=1000, kernel=linear, total=   0.0s\n",
      "[CV] C=1000, kernel=rbf ..............................................\n",
      "[CV] ............................... C=1000, kernel=rbf, total=   0.0s\n",
      "[CV] C=1000, kernel=rbf ..............................................\n",
      "[CV] ............................... C=1000, kernel=rbf, total=   0.0s\n",
      "[CV] C=1000, kernel=rbf ..............................................\n",
      "[CV] ............................... C=1000, kernel=rbf, total=   0.0s\n",
      "[CV] C=1000, kernel=rbf ..............................................\n",
      "[CV] ............................... C=1000, kernel=rbf, total=   0.0s\n",
      "[CV] C=1000, kernel=rbf ..............................................\n",
      "[CV] ............................... C=1000, kernel=rbf, total=   0.0s\n",
      "[CV] C=1000, kernel=poly .............................................\n",
      "[CV] .............................. C=1000, kernel=poly, total=   0.0s\n",
      "[CV] C=1000, kernel=poly .............................................\n",
      "[CV] .............................. C=1000, kernel=poly, total=   0.0s\n",
      "[CV] C=1000, kernel=poly .............................................\n",
      "[CV] .............................. C=1000, kernel=poly, total=   0.0s\n",
      "[CV] C=1000, kernel=poly .............................................\n",
      "[CV] .............................. C=1000, kernel=poly, total=   0.0s\n",
      "[CV] C=1000, kernel=poly .............................................\n",
      "[CV] .............................. C=1000, kernel=poly, total=   0.0s\n",
      "[CV] C=600000, kernel=linear .........................................\n",
      "[CV] .......................... C=600000, kernel=linear, total=   2.4s\n",
      "[CV] C=600000, kernel=linear .........................................\n",
      "[CV] .......................... C=600000, kernel=linear, total=   0.1s\n",
      "[CV] C=600000, kernel=linear .........................................\n",
      "[CV] .......................... C=600000, kernel=linear, total=   1.6s\n",
      "[CV] C=600000, kernel=linear .........................................\n",
      "[CV] .......................... C=600000, kernel=linear, total=   0.8s\n",
      "[CV] C=600000, kernel=linear .........................................\n",
      "[CV] .......................... C=600000, kernel=linear, total=   0.1s\n",
      "[CV] C=600000, kernel=rbf ............................................\n",
      "[CV] ............................. C=600000, kernel=rbf, total=   0.0s\n",
      "[CV] C=600000, kernel=rbf ............................................\n",
      "[CV] ............................. C=600000, kernel=rbf, total=   0.0s\n",
      "[CV] C=600000, kernel=rbf ............................................\n",
      "[CV] ............................. C=600000, kernel=rbf, total=   0.0s\n",
      "[CV] C=600000, kernel=rbf ............................................\n",
      "[CV] ............................. C=600000, kernel=rbf, total=   0.0s\n",
      "[CV] C=600000, kernel=rbf ............................................\n",
      "[CV] ............................. C=600000, kernel=rbf, total=   0.0s\n",
      "[CV] C=600000, kernel=poly ...........................................\n",
      "[CV] ............................ C=600000, kernel=poly, total=   0.0s\n",
      "[CV] C=600000, kernel=poly ...........................................\n",
      "[CV] ............................ C=600000, kernel=poly, total=   0.0s\n",
      "[CV] C=600000, kernel=poly ...........................................\n",
      "[CV] ............................ C=600000, kernel=poly, total=   0.0s\n",
      "[CV] C=600000, kernel=poly ...........................................\n",
      "[CV] ............................ C=600000, kernel=poly, total=   0.0s\n",
      "[CV] C=600000, kernel=poly ...........................................\n",
      "[CV] ............................ C=600000, kernel=poly, total=   0.0s\n"
     ]
    },
    {
     "name": "stderr",
     "output_type": "stream",
     "text": [
      "[Parallel(n_jobs=1)]: Done  45 out of  45 | elapsed:    5.5s finished\n"
     ]
    },
    {
     "data": {
      "text/plain": [
       "GridSearchCV(cv=None, error_score=nan,\n",
       "             estimator=SVC(C=1.0, break_ties=False, cache_size=200,\n",
       "                           class_weight=None, coef0=0.0,\n",
       "                           decision_function_shape='ovr', degree=3,\n",
       "                           gamma='scale', kernel='rbf', max_iter=-1,\n",
       "                           probability=False, random_state=None, shrinking=True,\n",
       "                           tol=0.001, verbose=False),\n",
       "             iid='deprecated', n_jobs=None,\n",
       "             param_grid={'C': [1, 1000, 600000],\n",
       "                         'kernel': ['linear', 'rbf', 'poly']},\n",
       "             pre_dispatch='2*n_jobs', refit=True, return_train_score=False,\n",
       "             scoring=None, verbose=2)"
      ]
     },
     "execution_count": 295,
     "metadata": {},
     "output_type": "execute_result"
    }
   ],
   "source": [
    "param_grid = {'C':[1,1000,600000], 'kernel':['linear','rbf','poly']}\n",
    "clf = GridSearchCV(SVC(),param_grid,refit = True, verbose=2)\n",
    "clf.fit(X_Strain,y_Strain)"
   ]
  },
  {
   "cell_type": "code",
   "execution_count": 296,
   "metadata": {},
   "outputs": [
    {
     "data": {
      "text/plain": [
       "{'C': 1, 'kernel': 'linear'}"
      ]
     },
     "execution_count": 296,
     "metadata": {},
     "output_type": "execute_result"
    }
   ],
   "source": [
    "clf.best_params_"
   ]
  },
  {
   "cell_type": "code",
   "execution_count": 298,
   "metadata": {
    "scrolled": true
   },
   "outputs": [
    {
     "name": "stdout",
     "output_type": "stream",
     "text": [
      "              precision    recall  f1-score   support\n",
      "\n",
      "           0       0.40      0.79      0.53      2294\n",
      "           1       0.25      0.21      0.23      1465\n",
      "           2       0.35      0.16      0.22      1846\n",
      "           3       0.34      0.14      0.20      1617\n",
      "           4       0.37      0.38      0.37      1768\n",
      "\n",
      "    accuracy                           0.37      8990\n",
      "   macro avg       0.34      0.33      0.31      8990\n",
      "weighted avg       0.35      0.37      0.33      8990\n",
      "\n",
      "[[1807  264   39    5  179]\n",
      " [ 733  309  207   22  194]\n",
      " [ 763  338  291  127  327]\n",
      " [ 639  187  156  224  411]\n",
      " [ 540  146  132  287  663]]\n",
      "0.3664071190211346\n"
     ]
    }
   ],
   "source": [
    "predic = clf.predict(X_test)\n",
    "print(classification_report(y_test,predic))\n",
    "print(confusion_matrix(y_test, predic))\n",
    "print(accuracy_score(y_test,predic))"
   ]
  },
  {
   "cell_type": "code",
   "execution_count": 300,
   "metadata": {
    "scrolled": true
   },
   "outputs": [
    {
     "name": "stdout",
     "output_type": "stream",
     "text": [
      "              precision    recall  f1-score   support\n",
      "\n",
      "           0       0.66      0.85      0.74      2294\n",
      "           1       0.54      0.44      0.49      1465\n",
      "           2       0.44      0.42      0.43      1846\n",
      "           3       0.39      0.29      0.33      1617\n",
      "           4       0.51      0.55      0.53      1768\n",
      "\n",
      "    accuracy                           0.53      8990\n",
      "   macro avg       0.51      0.51      0.50      8990\n",
      "weighted avg       0.52      0.53      0.52      8990\n",
      "\n",
      "[[1946   95  137   67   49]\n",
      " [ 446  651  205   73   90]\n",
      " [ 260  263  776  253  294]\n",
      " [ 170  108  387  467  485]\n",
      " [ 119   87  268  329  965]]\n",
      "0.5344827586206896\n"
     ]
    }
   ],
   "source": [
    "algo = GradientBoostingClassifier(criterion='friedman_mse', init=None,\n",
    "          learning_rate=0.2, loss='deviance', max_depth=3,\n",
    "          max_features=None, max_leaf_nodes=None, min_samples_leaf=1,\n",
    "          min_samples_split=12, min_weight_fraction_leaf=0.0,\n",
    "          n_estimators=80, presort='auto', random_state=500,\n",
    "          subsample=1.0, verbose=0, warm_start=False)\n",
    "predic = algo.fit(X_train, y_train).predict(X_test)\n",
    "print(classification_report(y_test,predic))\n",
    "print(confusion_matrix(y_test, predic))\n",
    "print(accuracy_score(y_test,predic))"
   ]
  },
  {
   "cell_type": "code",
   "execution_count": null,
   "metadata": {
    "scrolled": true
   },
   "outputs": [
    {
     "name": "stderr",
     "output_type": "stream",
     "text": [
      "C:\\Users\\rayon\\Anaconda3\\envs\\Task1_test\\lib\\site-packages\\sklearn\\utils\\validation.py:744: DataConversionWarning: A column-vector y was passed when a 1d array was expected. Please change the shape of y to (n_samples, ), for example using ravel().\n",
      "  y = column_or_1d(y, warn=True)\n"
     ]
    }
   ],
   "source": [
    "algo = SVC(C=1, kernel= 'linear')\n",
    "predic = algo.fit(X_train, y_train).predict(X_test)\n",
    "print(classification_report(y_test,predic))\n",
    "print(confusion_matrix(y_test, predic))\n",
    "print(accuracy_score(y_test,predic))"
   ]
  },
  {
   "cell_type": "code",
   "execution_count": 38,
   "metadata": {},
   "outputs": [
    {
     "name": "stderr",
     "output_type": "stream",
     "text": [
      "<ipython-input-38-d62efaeecef5>:2: DataConversionWarning: A column-vector y was passed when a 1d array was expected. Please change the shape of y to (n_samples, ), for example using ravel().\n",
      "  predic = algo.fit(X_train, y_train).predict(X_test)\n"
     ]
    },
    {
     "name": "stdout",
     "output_type": "stream",
     "text": [
      "              precision    recall  f1-score   support\n",
      "\n",
      "           0       0.59      0.82      0.69      2294\n",
      "           1       0.50      0.40      0.44      1465\n",
      "           2       0.41      0.41      0.41      1846\n",
      "           3       0.37      0.29      0.32      1617\n",
      "           4       0.48      0.42      0.44      1768\n",
      "\n",
      "    accuracy                           0.49      8990\n",
      "   macro avg       0.47      0.47      0.46      8990\n",
      "weighted avg       0.48      0.49      0.48      8990\n",
      "\n",
      "[[1873   91  138   92  100]\n",
      " [ 508  584  185   92   96]\n",
      " [ 322  256  749  254  265]\n",
      " [ 254  115  437  467  344]\n",
      " [ 208  120  337  368  735]]\n",
      "0.49032258064516127\n"
     ]
    }
   ],
   "source": [
    "algo = KNeighborsClassifier(n_neighbors=30)\n",
    "predic = algo.fit(X_train, y_train).predict(X_test)\n",
    "print(classification_report(y_test,predic))\n",
    "print(confusion_matrix(y_test, predic))\n",
    "print(accuracy_score(y_test,predic))"
   ]
  },
  {
   "cell_type": "code",
   "execution_count": 37,
   "metadata": {},
   "outputs": [
    {
     "name": "stdout",
     "output_type": "stream",
     "text": [
      "              precision    recall  f1-score   support\n",
      "\n",
      "           0       0.40      0.88      0.55      2294\n",
      "           1       0.39      0.40      0.40      1465\n",
      "           2       0.41      0.20      0.27      1846\n",
      "           3       0.29      0.10      0.15      1617\n",
      "           4       0.54      0.28      0.36      1768\n",
      "\n",
      "    accuracy                           0.40      8990\n",
      "   macro avg       0.40      0.37      0.34      8990\n",
      "weighted avg       0.41      0.40      0.36      8990\n",
      "\n",
      "[[2024  220   37    9    4]\n",
      " [ 683  592  148   19   23]\n",
      " [ 837  301  369  236  103]\n",
      " [ 808  185  174  158  292]\n",
      " [ 755  213  182  130  488]]\n",
      "0.4038932146829811\n"
     ]
    },
    {
     "name": "stderr",
     "output_type": "stream",
     "text": [
      "C:\\Users\\rayon\\Anaconda3\\envs\\Task1_test\\lib\\site-packages\\sklearn\\naive_bayes.py:207: DataConversionWarning: A column-vector y was passed when a 1d array was expected. Please change the shape of y to (n_samples, ), for example using ravel().\n",
      "  y = column_or_1d(y, warn=True)\n"
     ]
    }
   ],
   "source": [
    "from sklearn.naive_bayes import GaussianNB\n",
    "algo = GaussianNB(var_smoothing=1e-09)\n",
    "predic = algo.fit(X_train, y_train).predict(X_test)\n",
    "print(classification_report(y_test,predic))\n",
    "print(confusion_matrix(y_test, predic))\n",
    "print(accuracy_score(y_test,predic))"
   ]
  },
  {
   "cell_type": "code",
   "execution_count": 34,
   "metadata": {},
   "outputs": [
    {
     "name": "stderr",
     "output_type": "stream",
     "text": [
      "C:\\Users\\rayon\\Anaconda3\\envs\\Task1_test\\lib\\site-packages\\sklearn\\utils\\validation.py:744: DataConversionWarning: A column-vector y was passed when a 1d array was expected. Please change the shape of y to (n_samples, ), for example using ravel().\n",
      "  y = column_or_1d(y, warn=True)\n"
     ]
    },
    {
     "name": "stdout",
     "output_type": "stream",
     "text": [
      "              precision    recall  f1-score   support\n",
      "\n",
      "           0       0.24      0.06      0.09      2294\n",
      "           1       0.20      0.01      0.02      1465\n",
      "           2       0.18      0.02      0.04      1846\n",
      "           3       0.27      0.00      0.00      1617\n",
      "           4       0.20      0.92      0.33      1768\n",
      "\n",
      "    accuracy                           0.20      8990\n",
      "   macro avg       0.22      0.20      0.10      8990\n",
      "weighted avg       0.22      0.20      0.10      8990\n",
      "\n",
      "[[ 132   20  105    3 2034]\n",
      " [  58   12   30    1 1364]\n",
      " [ 131   18   41    3 1653]\n",
      " [ 112    5   30    3 1467]\n",
      " [ 117    6   18    1 1626]]\n",
      "0.2017797552836485\n"
     ]
    }
   ],
   "source": [
    "algo = LogisticRegression(C=1, penalty='l2', solver='saga',multi_class='multinomial',max_iter=10000)\n",
    "predic = algo.fit(X_train, y_train).predict(X_test)\n",
    "print(classification_report(y_test,predic))\n",
    "print(confusion_matrix(y_test, predic))\n",
    "print(accuracy_score(y_test,predic))"
   ]
  },
  {
   "cell_type": "code",
   "execution_count": 36,
   "metadata": {
    "scrolled": true
   },
   "outputs": [
    {
     "name": "stderr",
     "output_type": "stream",
     "text": [
      "<ipython-input-36-4008f03f3278>:2: DataConversionWarning: A column-vector y was passed when a 1d array was expected. Please change the shape of y to (n_samples,), for example using ravel().\n",
      "  predic = algo.fit(X_train, y_train).predict(X_test)\n"
     ]
    },
    {
     "name": "stdout",
     "output_type": "stream",
     "text": [
      "              precision    recall  f1-score   support\n",
      "\n",
      "           0       0.40      0.97      0.57      2294\n",
      "           1       0.62      0.18      0.28      1465\n",
      "           2       0.40      0.37      0.38      1846\n",
      "           3       0.45      0.01      0.01      1617\n",
      "           4       0.49      0.37      0.42      1768\n",
      "\n",
      "    accuracy                           0.43      8990\n",
      "   macro avg       0.47      0.38      0.33      8990\n",
      "weighted avg       0.46      0.43      0.36      8990\n",
      "\n",
      "[[2223   20   27    1   23]\n",
      " [ 811  270  351    1   32]\n",
      " [ 895   96  674    6  175]\n",
      " [ 773   29  358   10  447]\n",
      " [ 806   23  277    4  658]]\n",
      "0.42658509454949944\n"
     ]
    }
   ],
   "source": [
    "algo = RandomForestClassifier(max_depth=2, random_state=123)\n",
    "predic = algo.fit(X_train, y_train).predict(X_test)\n",
    "print(classification_report(y_test,predic))\n",
    "print(confusion_matrix(y_test, predic))\n",
    "print(accuracy_score(y_test,predic))"
   ]
  },
  {
   "cell_type": "markdown",
   "metadata": {},
   "source": [
    "## PCA"
   ]
  },
  {
   "cell_type": "markdown",
   "metadata": {},
   "source": [
    "Principal component analysis, or PCA, is a statistical technique to convert high dimensional data to low dimensional data by selecting the most important features that capture maximum information about the dataset. The features are selected on the basis of variance that they cause in the output. The feature that causes highest variance is the first principal component. The feature that is responsible for second highest variance is considered the second principal component, and so on. It is important to mention that principal components do not have any correlation with each other."
   ]
  },
  {
   "cell_type": "code",
   "execution_count": 46,
   "metadata": {},
   "outputs": [],
   "source": [
    "X= credit.iloc[:,1:]\n",
    "y= credit.iloc[:,:1]\n",
    "X_train,X_test,y_train,y_test = train_test_split(X,y,test_size=0.30,random_state=123)"
   ]
  },
  {
   "cell_type": "code",
   "execution_count": 47,
   "metadata": {
    "scrolled": true
   },
   "outputs": [
    {
     "data": {
      "text/plain": [
       "Index(['LIMIT_BAL', 'EDUCATION', 'AGE', 'PAY_0', 'PAY_2', 'PAY_3', 'PAY_4',\n",
       "       'PAY_5', 'PAY_6', 'BILL_AMT1', 'BILL_AMT2', 'BILL_AMT3', 'BILL_AMT4',\n",
       "       'BILL_AMT5', 'BILL_AMT6', 'PAY_AMT1', 'PAY_AMT2', 'PAY_AMT3',\n",
       "       'PAY_AMT4', 'PAY_AMT5', 'PAY_AMT6', 'default'],\n",
       "      dtype='object')"
      ]
     },
     "execution_count": 47,
     "metadata": {},
     "output_type": "execute_result"
    }
   ],
   "source": [
    "credit.columns"
   ]
  },
  {
   "cell_type": "code",
   "execution_count": 49,
   "metadata": {},
   "outputs": [],
   "source": [
    "# Separating out the target\n",
    "features = X.columns.tolist()"
   ]
  },
  {
   "cell_type": "markdown",
   "metadata": {},
   "source": [
    "PCA performs best with a normalized feature set. We will perform standard scalar normalization to normalize our feature set. To do this, execute the following code:"
   ]
  },
  {
   "cell_type": "code",
   "execution_count": 50,
   "metadata": {},
   "outputs": [],
   "source": [
    "sc = StandardScaler()\n",
    "X_train = sc.fit_transform(X_train)\n",
    "X_test = sc.fit_transform(X_test)\n",
    "X = sc.transform(X)"
   ]
  },
  {
   "cell_type": "code",
   "execution_count": 51,
   "metadata": {},
   "outputs": [],
   "source": [
    "pca = PCA(n_components=5)\n",
    "X_train = pca.fit_transform(X_train)\n",
    "X_test = pca.transform(X_test)\n",
    "X_trainDf = pd.DataFrame(data = X_train)"
   ]
  },
  {
   "cell_type": "markdown",
   "metadata": {},
   "source": [
    "The PCA class contains explained_variance_ratio_ which returns the variance caused by each of the principal components. Execute the following line of code to find the \"explained variance ratio\"."
   ]
  },
  {
   "cell_type": "code",
   "execution_count": 52,
   "metadata": {
    "scrolled": true
   },
   "outputs": [
    {
     "data": {
      "text/plain": [
       "array([0.27446298, 0.19038417, 0.06973498, 0.04939595, 0.04758486])"
      ]
     },
     "execution_count": 52,
     "metadata": {},
     "output_type": "execute_result"
    }
   ],
   "source": [
    "explained_variance = pca.explained_variance_ratio_\n",
    "explained_variance"
   ]
  },
  {
   "cell_type": "code",
   "execution_count": 53,
   "metadata": {
    "scrolled": true
   },
   "outputs": [
    {
     "name": "stdout",
     "output_type": "stream",
     "text": [
      "[0.4345774  0.30144924 0.11041652 0.07821224 0.07534461]\n"
     ]
    }
   ],
   "source": [
    "ex_variance=np.var(X_train,axis=0)\n",
    "ex_variance_ratio = ex_variance/np.sum(ex_variance)\n",
    "print(ex_variance_ratio)"
   ]
  },
  {
   "cell_type": "code",
   "execution_count": 54,
   "metadata": {},
   "outputs": [
    {
     "data": {
      "text/html": [
       "<div>\n",
       "<style scoped>\n",
       "    .dataframe tbody tr th:only-of-type {\n",
       "        vertical-align: middle;\n",
       "    }\n",
       "\n",
       "    .dataframe tbody tr th {\n",
       "        vertical-align: top;\n",
       "    }\n",
       "\n",
       "    .dataframe thead th {\n",
       "        text-align: right;\n",
       "    }\n",
       "</style>\n",
       "<table border=\"1\" class=\"dataframe\">\n",
       "  <thead>\n",
       "    <tr style=\"text-align: right;\">\n",
       "      <th></th>\n",
       "      <th>LIMIT_BAL</th>\n",
       "      <th>0</th>\n",
       "      <th>1</th>\n",
       "      <th>2</th>\n",
       "      <th>3</th>\n",
       "      <th>4</th>\n",
       "    </tr>\n",
       "  </thead>\n",
       "  <tbody>\n",
       "    <tr>\n",
       "      <th>0</th>\n",
       "      <td>0.0</td>\n",
       "      <td>-0.946694</td>\n",
       "      <td>-0.552441</td>\n",
       "      <td>0.539742</td>\n",
       "      <td>0.454439</td>\n",
       "      <td>1.828699</td>\n",
       "    </tr>\n",
       "    <tr>\n",
       "      <th>1</th>\n",
       "      <td>2.0</td>\n",
       "      <td>-0.969028</td>\n",
       "      <td>-1.087231</td>\n",
       "      <td>0.448526</td>\n",
       "      <td>0.738422</td>\n",
       "      <td>0.140733</td>\n",
       "    </tr>\n",
       "    <tr>\n",
       "      <th>2</th>\n",
       "      <td>1.0</td>\n",
       "      <td>-0.986934</td>\n",
       "      <td>-0.804238</td>\n",
       "      <td>1.748709</td>\n",
       "      <td>-1.592999</td>\n",
       "      <td>-1.234587</td>\n",
       "    </tr>\n",
       "    <tr>\n",
       "      <th>3</th>\n",
       "      <td>0.0</td>\n",
       "      <td>-1.743952</td>\n",
       "      <td>0.668877</td>\n",
       "      <td>-0.458620</td>\n",
       "      <td>-0.838887</td>\n",
       "      <td>0.716805</td>\n",
       "    </tr>\n",
       "    <tr>\n",
       "      <th>4</th>\n",
       "      <td>0.0</td>\n",
       "      <td>-1.171551</td>\n",
       "      <td>-1.125799</td>\n",
       "      <td>0.690212</td>\n",
       "      <td>0.338030</td>\n",
       "      <td>-0.186308</td>\n",
       "    </tr>\n",
       "  </tbody>\n",
       "</table>\n",
       "</div>"
      ],
      "text/plain": [
       "   LIMIT_BAL         0         1         2         3         4\n",
       "0        0.0 -0.946694 -0.552441  0.539742  0.454439  1.828699\n",
       "1        2.0 -0.969028 -1.087231  0.448526  0.738422  0.140733\n",
       "2        1.0 -0.986934 -0.804238  1.748709 -1.592999 -1.234587\n",
       "3        0.0 -1.743952  0.668877 -0.458620 -0.838887  0.716805\n",
       "4        0.0 -1.171551 -1.125799  0.690212  0.338030 -0.186308"
      ]
     },
     "execution_count": 54,
     "metadata": {},
     "output_type": "execute_result"
    }
   ],
   "source": [
    "finalDf = pd.concat([ y,X_trainDf], axis = 1)\n",
    "finalDf.head()"
   ]
  },
  {
   "cell_type": "code",
   "execution_count": 55,
   "metadata": {
    "scrolled": true
   },
   "outputs": [
    {
     "name": "stderr",
     "output_type": "stream",
     "text": [
      "C:\\Users\\rayon\\Anaconda3\\envs\\Task1_test\\lib\\site-packages\\sklearn\\ensemble\\_gb.py:1454: DataConversionWarning: A column-vector y was passed when a 1d array was expected. Please change the shape of y to (n_samples, ), for example using ravel().\n",
      "  y = column_or_1d(y, warn=True)\n",
      "C:\\Users\\rayon\\Anaconda3\\envs\\Task1_test\\lib\\site-packages\\sklearn\\ensemble\\_gb.py:1337: FutureWarning: The parameter 'presort' is deprecated and has no effect. It will be removed in v0.24. You can suppress this warning by not passing any value to the 'presort' parameter. We also recommend using HistGradientBoosting models instead.\n",
      "  warnings.warn(\"The parameter 'presort' is deprecated and has no \"\n"
     ]
    },
    {
     "name": "stdout",
     "output_type": "stream",
     "text": [
      "              precision    recall  f1-score   support\n",
      "\n",
      "           0       0.59      0.79      0.67      2294\n",
      "           1       0.48      0.36      0.41      1465\n",
      "           2       0.41      0.37      0.39      1846\n",
      "           3       0.36      0.26      0.30      1617\n",
      "           4       0.47      0.52      0.50      1768\n",
      "\n",
      "    accuracy                           0.49      8990\n",
      "   macro avg       0.46      0.46      0.45      8990\n",
      "weighted avg       0.47      0.49      0.47      8990\n",
      "\n",
      "[[1823  130  134   95  112]\n",
      " [ 542  528  213   75  107]\n",
      " [ 341  265  687  245  308]\n",
      " [ 225  100  382  413  497]\n",
      " [ 178   83  275  312  920]]\n",
      "0.4862068965517241\n"
     ]
    }
   ],
   "source": [
    "algo = GradientBoostingClassifier(criterion='friedman_mse', init=None,\n",
    "          learning_rate=0.2, loss='deviance', max_depth=3,\n",
    "          max_features=None, max_leaf_nodes=None, min_samples_leaf=1,\n",
    "          min_samples_split=12, min_weight_fraction_leaf=0.0,\n",
    "          n_estimators=80, presort='auto', random_state=500,\n",
    "          subsample=1.0, verbose=0, warm_start=False)\n",
    "predic = algo.fit(X_train, y_train).predict(X_test)\n",
    "print(classification_report(y_test,predic))\n",
    "print(confusion_matrix(y_test, predic))\n",
    "print(accuracy_score(y_test,predic))"
   ]
  },
  {
   "cell_type": "code",
   "execution_count": 56,
   "metadata": {
    "scrolled": true
   },
   "outputs": [
    {
     "name": "stderr",
     "output_type": "stream",
     "text": [
      "C:\\Users\\rayon\\Anaconda3\\envs\\Task1_test\\lib\\site-packages\\sklearn\\utils\\validation.py:744: DataConversionWarning: A column-vector y was passed when a 1d array was expected. Please change the shape of y to (n_samples, ), for example using ravel().\n",
      "  y = column_or_1d(y, warn=True)\n"
     ]
    },
    {
     "name": "stdout",
     "output_type": "stream",
     "text": [
      "              precision    recall  f1-score   support\n",
      "\n",
      "           0       0.40      0.92      0.56      2294\n",
      "           1       0.33      0.06      0.11      1465\n",
      "           2       0.34      0.30      0.32      1846\n",
      "           3       0.42      0.01      0.01      1617\n",
      "           4       0.45      0.46      0.45      1768\n",
      "\n",
      "    accuracy                           0.40      8990\n",
      "   macro avg       0.39      0.35      0.29      8990\n",
      "weighted avg       0.39      0.40      0.32      8990\n",
      "\n",
      "[[2118   19   94    0   63]\n",
      " [ 884   92  364    2  123]\n",
      " [ 866  102  554    4  320]\n",
      " [ 743   48  344   10  472]\n",
      " [ 653   16  283    8  808]]\n",
      "0.39844271412680754\n"
     ]
    }
   ],
   "source": [
    "algo = SVC(C=1, kernel= 'linear')\n",
    "predic = algo.fit(X_train, y_train).predict(X_test)\n",
    "print(classification_report(y_test,predic))\n",
    "print(confusion_matrix(y_test, predic))\n",
    "print(accuracy_score(y_test,predic))"
   ]
  },
  {
   "cell_type": "code",
   "execution_count": 57,
   "metadata": {
    "scrolled": true
   },
   "outputs": [
    {
     "name": "stderr",
     "output_type": "stream",
     "text": [
      "<ipython-input-57-d62efaeecef5>:2: DataConversionWarning: A column-vector y was passed when a 1d array was expected. Please change the shape of y to (n_samples, ), for example using ravel().\n",
      "  predic = algo.fit(X_train, y_train).predict(X_test)\n"
     ]
    },
    {
     "name": "stdout",
     "output_type": "stream",
     "text": [
      "              precision    recall  f1-score   support\n",
      "\n",
      "           0       0.58      0.83      0.68      2294\n",
      "           1       0.44      0.32      0.37      1465\n",
      "           2       0.38      0.34      0.36      1846\n",
      "           3       0.35      0.27      0.31      1617\n",
      "           4       0.48      0.46      0.47      1768\n",
      "\n",
      "    accuracy                           0.47      8990\n",
      "   macro avg       0.44      0.45      0.44      8990\n",
      "weighted avg       0.45      0.47      0.46      8990\n",
      "\n",
      "[[1897  104  117   90   86]\n",
      " [ 595  468  217   90   95]\n",
      " [ 371  286  636  271  282]\n",
      " [ 242  108  388  437  442]\n",
      " [ 179  103  304  360  822]]\n",
      "0.4738598442714127\n"
     ]
    }
   ],
   "source": [
    "algo = KNeighborsClassifier(n_neighbors=30)\n",
    "predic = algo.fit(X_train, y_train).predict(X_test)\n",
    "print(classification_report(y_test,predic))\n",
    "print(confusion_matrix(y_test, predic))\n",
    "print(accuracy_score(y_test,predic))"
   ]
  },
  {
   "cell_type": "code",
   "execution_count": 58,
   "metadata": {},
   "outputs": [
    {
     "name": "stdout",
     "output_type": "stream",
     "text": [
      "              precision    recall  f1-score   support\n",
      "\n",
      "           0       0.39      0.92      0.55      2294\n",
      "           1       0.49      0.23      0.31      1465\n",
      "           2       0.39      0.25      0.30      1846\n",
      "           3       0.31      0.12      0.18      1617\n",
      "           4       0.55      0.32      0.41      1768\n",
      "\n",
      "    accuracy                           0.41      8990\n",
      "   macro avg       0.43      0.37      0.35      8990\n",
      "weighted avg       0.42      0.41      0.36      8990\n",
      "\n",
      "[[2118  119   43   11    3]\n",
      " [ 760  337  316   31   21]\n",
      " [ 908  143  453  204  138]\n",
      " [ 866   51  190  198  312]\n",
      " [ 816   38  158  185  571]]\n",
      "0.4090100111234705\n"
     ]
    },
    {
     "name": "stderr",
     "output_type": "stream",
     "text": [
      "C:\\Users\\rayon\\Anaconda3\\envs\\Task1_test\\lib\\site-packages\\sklearn\\naive_bayes.py:207: DataConversionWarning: A column-vector y was passed when a 1d array was expected. Please change the shape of y to (n_samples, ), for example using ravel().\n",
      "  y = column_or_1d(y, warn=True)\n"
     ]
    }
   ],
   "source": [
    "from sklearn.naive_bayes import GaussianNB\n",
    "algo = GaussianNB(var_smoothing=1e-09)\n",
    "predic = algo.fit(X_train, y_train).predict(X_test)\n",
    "print(classification_report(y_test,predic))\n",
    "print(confusion_matrix(y_test, predic))\n",
    "print(accuracy_score(y_test,predic))"
   ]
  },
  {
   "cell_type": "code",
   "execution_count": 59,
   "metadata": {},
   "outputs": [
    {
     "name": "stderr",
     "output_type": "stream",
     "text": [
      "C:\\Users\\rayon\\Anaconda3\\envs\\Task1_test\\lib\\site-packages\\sklearn\\utils\\validation.py:744: DataConversionWarning: A column-vector y was passed when a 1d array was expected. Please change the shape of y to (n_samples, ), for example using ravel().\n",
      "  y = column_or_1d(y, warn=True)\n"
     ]
    },
    {
     "name": "stdout",
     "output_type": "stream",
     "text": [
      "              precision    recall  f1-score   support\n",
      "\n",
      "           0       0.41      0.83      0.55      2294\n",
      "           1       0.29      0.02      0.03      1465\n",
      "           2       0.31      0.30      0.30      1846\n",
      "           3       0.34      0.01      0.01      1617\n",
      "           4       0.39      0.55      0.46      1768\n",
      "\n",
      "    accuracy                           0.38      8990\n",
      "   macro avg       0.35      0.34      0.27      8990\n",
      "weighted avg       0.35      0.38      0.30      8990\n",
      "\n",
      "[[1897    2  213    3  179]\n",
      " [ 817   22  407    1  218]\n",
      " [ 778   37  547    8  476]\n",
      " [ 647   10  329   12  619]\n",
      " [ 520    5  259   11  973]]\n",
      "0.38387096774193546\n"
     ]
    }
   ],
   "source": [
    "algo = LogisticRegression(C=1, penalty='l2', solver='saga',multi_class='multinomial',max_iter=10000)\n",
    "predic = algo.fit(X_train, y_train).predict(X_test)\n",
    "print(classification_report(y_test,predic))\n",
    "print(confusion_matrix(y_test, predic))\n",
    "print(accuracy_score(y_test,predic))"
   ]
  },
  {
   "cell_type": "code",
   "execution_count": 60,
   "metadata": {
    "scrolled": true
   },
   "outputs": [
    {
     "name": "stderr",
     "output_type": "stream",
     "text": [
      "<ipython-input-60-4008f03f3278>:2: DataConversionWarning: A column-vector y was passed when a 1d array was expected. Please change the shape of y to (n_samples,), for example using ravel().\n",
      "  predic = algo.fit(X_train, y_train).predict(X_test)\n"
     ]
    },
    {
     "name": "stdout",
     "output_type": "stream",
     "text": [
      "              precision    recall  f1-score   support\n",
      "\n",
      "           0       0.42      0.95      0.58      2294\n",
      "           1       0.00      0.00      0.00      1465\n",
      "           2       0.41      0.36      0.39      1846\n",
      "           3       0.00      0.00      0.00      1617\n",
      "           4       0.45      0.54      0.49      1768\n",
      "\n",
      "    accuracy                           0.42      8990\n",
      "   macro avg       0.26      0.37      0.29      8990\n",
      "weighted avg       0.28      0.42      0.32      8990\n",
      "\n",
      "[[2178    0   20    0   96]\n",
      " [ 892    0  457    0  116]\n",
      " [ 842    0  671    0  333]\n",
      " [ 712    0  288    0  617]\n",
      " [ 606    0  203    0  959]]\n",
      "0.4235817575083426\n"
     ]
    },
    {
     "name": "stderr",
     "output_type": "stream",
     "text": [
      "C:\\Users\\rayon\\Anaconda3\\envs\\Task1_test\\lib\\site-packages\\sklearn\\metrics\\_classification.py:1268: UndefinedMetricWarning: Precision and F-score are ill-defined and being set to 0.0 in labels with no predicted samples. Use `zero_division` parameter to control this behavior.\n",
      "  _warn_prf(average, modifier, msg_start, len(result))\n"
     ]
    }
   ],
   "source": [
    "algo = RandomForestClassifier(max_depth=2, random_state=123)\n",
    "predic = algo.fit(X_train, y_train).predict(X_test)\n",
    "print(classification_report(y_test,predic))\n",
    "print(confusion_matrix(y_test, predic))\n",
    "print(accuracy_score(y_test,predic))"
   ]
  },
  {
   "cell_type": "markdown",
   "metadata": {},
   "source": [
    "## Applying Pipeline from the start "
   ]
  },
  {
   "cell_type": "code",
   "execution_count": 62,
   "metadata": {},
   "outputs": [],
   "source": [
    "credit = pd.read_csv(\"default of credit card clients.csv\", header=1)"
   ]
  },
  {
   "cell_type": "code",
   "execution_count": 63,
   "metadata": {},
   "outputs": [],
   "source": [
    "credit['default'] = credit['default payment next month']"
   ]
  },
  {
   "cell_type": "code",
   "execution_count": 64,
   "metadata": {},
   "outputs": [],
   "source": [
    "credit = credit.drop(['ID','default payment next month'], axis=1)\n",
    "#overriding data set with the same data set after removing duplicate \n",
    "credit = credit.drop_duplicates()"
   ]
  },
  {
   "cell_type": "code",
   "execution_count": 65,
   "metadata": {},
   "outputs": [
    {
     "data": {
      "text/plain": [
       "{'LIMIT_BAL': [-inf, 50000.0, 100000.0, 180000.0, 270000.0, inf]}"
      ]
     },
     "execution_count": 65,
     "metadata": {},
     "output_type": "execute_result"
    }
   ],
   "source": [
    "disc = feature_discretisers.EqualFrequencyDiscretiser(q =5,variables=['LIMIT_BAL'])    \n",
    "disc.fit(credit)\n",
    "credit= disc.transform(credit)\n",
    "disc.binner_dict_"
   ]
  },
  {
   "cell_type": "code",
   "execution_count": 83,
   "metadata": {},
   "outputs": [],
   "source": [
    "X= credit.iloc[:,1:]\n",
    "y= credit.iloc[:,:1]\n",
    "X_train,X_test,y_train,y_test = train_test_split(X,y,test_size=0.30,random_state=123)"
   ]
  },
  {
   "cell_type": "markdown",
   "metadata": {},
   "source": [
    "Numeric transformer applies a StandardScaler, and includes a SimpleImputer to fill in any missing values.\n",
    "\n",
    "The categorical transformer also has a SimpleImputer with a different fill method, and leverages OneHotEncoder to transform the categorical values into integers."
   ]
  },
  {
   "cell_type": "code",
   "execution_count": 84,
   "metadata": {},
   "outputs": [],
   "source": [
    "numeric_transformer = Pipeline(steps=[\n",
    "    ('imputer', SimpleImputer(strategy='median')),\n",
    "    ('scaler', StandardScaler())])\n",
    "categorical_transformer = Pipeline(steps=[\n",
    "    ('imputer', SimpleImputer(strategy='constant', fill_value='missing')),\n",
    "    ('onehot', OneHotEncoder(handle_unknown='ignore'))])"
   ]
  },
  {
   "cell_type": "markdown",
   "metadata": {},
   "source": [
    "Next we use the ColumnTransformer to apply the transformations to the correct columns in the dataframe. Before building this I have stored lists of the numeric and categorical columns using the pandas dtype method."
   ]
  },
  {
   "cell_type": "code",
   "execution_count": 85,
   "metadata": {},
   "outputs": [],
   "source": [
    "numeric_features = X.select_dtypes(include=['int64', 'float64']).columns\n",
    "\n",
    "categorical_features = X.select_dtypes(include=['object']).columns\n",
    "\n",
    "from sklearn.compose import ColumnTransformer\n",
    "preprocessor = ColumnTransformer(\n",
    "    transformers=[\n",
    "        ('num', numeric_transformer, numeric_features),\n",
    "        ('cat', categorical_transformer, categorical_features)])"
   ]
  },
  {
   "cell_type": "markdown",
   "metadata": {},
   "source": [
    "Fitting the classifier\n",
    "\n",
    "The next step is to create a pipeline that combines the preprocessor created above with a classifier. In this case I have used a simple RandomForestClassifier to start with."
   ]
  },
  {
   "cell_type": "code",
   "execution_count": 86,
   "metadata": {},
   "outputs": [],
   "source": [
    "rf = Pipeline(steps=[('preprocessor', preprocessor),\n",
    "                      ('regressor', RandomForestClassifier())])"
   ]
  },
  {
   "cell_type": "code",
   "execution_count": 87,
   "metadata": {
    "scrolled": true
   },
   "outputs": [],
   "source": [
    "rf.fit(X_train, y_train)\n",
    "y_pred = rf.predict(X_test)"
   ]
  },
  {
   "cell_type": "code",
   "execution_count": 88,
   "metadata": {},
   "outputs": [
    {
     "data": {
      "text/plain": [
       "0.5370411568409343"
      ]
     },
     "execution_count": 88,
     "metadata": {},
     "output_type": "execute_result"
    }
   ],
   "source": [
    "rf.score(X_test, y_test)"
   ]
  },
  {
   "cell_type": "code",
   "execution_count": 89,
   "metadata": {
    "scrolled": false
   },
   "outputs": [
    {
     "name": "stdout",
     "output_type": "stream",
     "text": [
      "SVC(C=0.025, break_ties=False, cache_size=200, class_weight=None, coef0=0.0,\n",
      "    decision_function_shape='ovr', degree=3, gamma='scale', kernel='rbf',\n",
      "    max_iter=-1, probability=False, random_state=None, shrinking=True,\n",
      "    tol=0.001, verbose=False)\n",
      "model score: 0.476\n",
      "DecisionTreeClassifier(ccp_alpha=0.0, class_weight=None, criterion='gini',\n",
      "                       max_depth=None, max_features=None, max_leaf_nodes=None,\n",
      "                       min_impurity_decrease=0.0, min_impurity_split=None,\n",
      "                       min_samples_leaf=1, min_samples_split=2,\n",
      "                       min_weight_fraction_leaf=0.0, presort='deprecated',\n",
      "                       random_state=None, splitter='best')\n",
      "model score: 0.435\n",
      "RandomForestClassifier(bootstrap=True, ccp_alpha=0.0, class_weight=None,\n",
      "                       criterion='gini', max_depth=None, max_features='auto',\n",
      "                       max_leaf_nodes=None, max_samples=None,\n",
      "                       min_impurity_decrease=0.0, min_impurity_split=None,\n",
      "                       min_samples_leaf=1, min_samples_split=2,\n",
      "                       min_weight_fraction_leaf=0.0, n_estimators=100,\n",
      "                       n_jobs=None, oob_score=False, random_state=None,\n",
      "                       verbose=0, warm_start=False)\n",
      "model score: 0.536\n",
      "KNeighborsClassifier(algorithm='auto', leaf_size=30, metric='minkowski',\n",
      "                     metric_params=None, n_jobs=None, n_neighbors=5, p=2,\n",
      "                     weights='uniform')\n",
      "model score: 0.452\n",
      "LogisticRegression(C=1.0, class_weight=None, dual=False, fit_intercept=True,\n",
      "                   intercept_scaling=1, l1_ratio=None, max_iter=100,\n",
      "                   multi_class='auto', n_jobs=None, penalty='l2',\n",
      "                   random_state=None, solver='lbfgs', tol=0.0001, verbose=0,\n",
      "                   warm_start=False)\n",
      "model score: 0.445\n",
      "GradientBoostingClassifier(ccp_alpha=0.0, criterion='friedman_mse', init=None,\n",
      "                           learning_rate=0.1, loss='deviance', max_depth=3,\n",
      "                           max_features=None, max_leaf_nodes=None,\n",
      "                           min_impurity_decrease=0.0, min_impurity_split=None,\n",
      "                           min_samples_leaf=1, min_samples_split=2,\n",
      "                           min_weight_fraction_leaf=0.0, n_estimators=100,\n",
      "                           n_iter_no_change=None, presort='deprecated',\n",
      "                           random_state=None, subsample=1.0, tol=0.0001,\n",
      "                           validation_fraction=0.1, verbose=0,\n",
      "                           warm_start=False)\n",
      "model score: 0.540\n"
     ]
    }
   ],
   "source": [
    "classifiers = [\n",
    "    SVC(kernel=\"rbf\", C=0.025),\n",
    "    DecisionTreeClassifier(),\n",
    "    RandomForestClassifier(),\n",
    "   KNeighborsClassifier(),\n",
    "    LogisticRegression(),\n",
    "    GradientBoostingClassifier()\n",
    "    ]\n",
    "for classifier in classifiers:\n",
    "    pipe = Pipeline(steps=[('preprocessor', preprocessor),\n",
    "                      ('classifier', classifier)])\n",
    "    pipe.fit(X_train, y_train)   \n",
    "    print(classifier)\n",
    "    print(\"model score: %.3f\" % pipe.score(X_test, y_test))"
   ]
  },
  {
   "cell_type": "markdown",
   "metadata": {},
   "source": [
    "GradientBoostingClassifier, gives the highest score which is about 54%"
   ]
  }
 ],
 "metadata": {
  "kernelspec": {
   "display_name": "Task1_test",
   "language": "python",
   "name": "task1_test"
  },
  "language_info": {
   "codemirror_mode": {
    "name": "ipython",
    "version": 3
   },
   "file_extension": ".py",
   "mimetype": "text/x-python",
   "name": "python",
   "nbconvert_exporter": "python",
   "pygments_lexer": "ipython3",
   "version": "3.8.1"
  }
 },
 "nbformat": 4,
 "nbformat_minor": 4
}
